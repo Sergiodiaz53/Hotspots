{
  "nbformat": 4,
  "nbformat_minor": 0,
  "metadata": {
    "colab": {
      "name": "DNA2Vec + LSTM Prediction",
      "provenance": [],
      "toc_visible": true,
      "authorship_tag": "ABX9TyNqMhj4mKMunypJZMB5gkIz"
    },
    "kernelspec": {
      "display_name": "Python 3",
      "name": "python3"
    },
    "language_info": {
      "name": "python"
    }
  },
  "cells": [
    {
      "cell_type": "code",
      "metadata": {
        "id": "CorcRChHdSlV",
        "colab": {
          "base_uri": "https://localhost:8080/",
          "height": 511
        },
        "outputId": "762987b8-7829-4bff-c998-25bd3840819b"
      },
      "source": [
        "#Packages\n",
        "%tensorflow_version 2.x\n",
        "import tensorflow as tf\n",
        "from tensorflow import keras\n",
        "import matplotlib.pyplot as plt\n",
        "\n",
        "import numpy as np\n",
        "import pandas as pd\n",
        "import seaborn as sns\n",
        "\n",
        "#Tools\n",
        "from google.colab import drive\n",
        "from tensorflow.keras import Sequential\n",
        "from tensorflow.keras.layers import Embedding, LSTM, Dense, Dropout\n",
        "from tensorflow.keras.preprocessing.text import Tokenizer\n",
        "from tensorflow.keras.preprocessing.sequence import pad_sequences\n",
        "from sklearn.utils import class_weight\n",
        "from sklearn.model_selection import train_test_split\n",
        "from tensorflow.keras.utils import to_categorical\n",
        "from sklearn.metrics import accuracy_score\n",
        "from sklearn.metrics import confusion_matrix\n",
        "from gensim.models import Word2Vec\n",
        "\n",
        "from gensim.models.word2vec import LineSentence\n",
        "from gensim.models.callbacks import CallbackAny2Vec\n",
        "from sklearn.utils import shuffle"
      ],
      "execution_count": 5,
      "outputs": [
        {
          "output_type": "error",
          "ename": "ModuleNotFoundError",
          "evalue": "ignored",
          "traceback": [
            "\u001b[0;31m---------------------------------------------------------------------------\u001b[0m",
            "\u001b[0;31mModuleNotFoundError\u001b[0m                       Traceback (most recent call last)",
            "\u001b[0;32m<ipython-input-5-bb5cb6642f44>\u001b[0m in \u001b[0;36m<module>\u001b[0;34m()\u001b[0m\n\u001b[1;32m     25\u001b[0m \u001b[0;32mfrom\u001b[0m \u001b[0mgensim\u001b[0m\u001b[0;34m.\u001b[0m\u001b[0mmodels\u001b[0m\u001b[0;34m.\u001b[0m\u001b[0mcallbacks\u001b[0m \u001b[0;32mimport\u001b[0m \u001b[0mCallbackAny2Vec\u001b[0m\u001b[0;34m\u001b[0m\u001b[0;34m\u001b[0m\u001b[0m\n\u001b[1;32m     26\u001b[0m \u001b[0;32mfrom\u001b[0m \u001b[0msklearn\u001b[0m\u001b[0;34m.\u001b[0m\u001b[0mutils\u001b[0m \u001b[0;32mimport\u001b[0m \u001b[0mshuffle\u001b[0m\u001b[0;34m\u001b[0m\u001b[0;34m\u001b[0m\u001b[0m\n\u001b[0;32m---> 27\u001b[0;31m \u001b[0;32mfrom\u001b[0m \u001b[0mdna2vec\u001b[0m\u001b[0;34m.\u001b[0m\u001b[0mdna2vec\u001b[0m \u001b[0;32mimport\u001b[0m \u001b[0mmulti_k_model\u001b[0m\u001b[0;34m\u001b[0m\u001b[0;34m\u001b[0m\u001b[0m\n\u001b[0m",
            "\u001b[0;32m/content/dna2vec/dna2vec/__init__.py\u001b[0m in \u001b[0;36m<module>\u001b[0;34m()\u001b[0m\n\u001b[0;32m----> 1\u001b[0;31m \u001b[0;32mfrom\u001b[0m \u001b[0;34m.\u001b[0m\u001b[0mmulti_k_model\u001b[0m \u001b[0;32mimport\u001b[0m \u001b[0mMultiKModel\u001b[0m\u001b[0;34m\u001b[0m\u001b[0;34m\u001b[0m\u001b[0m\n\u001b[0m\u001b[1;32m      2\u001b[0m \u001b[0;34m\u001b[0m\u001b[0m\n\u001b[1;32m      3\u001b[0m \u001b[0m__title__\u001b[0m \u001b[0;34m=\u001b[0m \u001b[0;34m'dna2vec'\u001b[0m\u001b[0;34m\u001b[0m\u001b[0;34m\u001b[0m\u001b[0m\n\u001b[1;32m      4\u001b[0m \u001b[0m__version__\u001b[0m \u001b[0;34m=\u001b[0m \u001b[0;34m'1.0.0'\u001b[0m\u001b[0;34m\u001b[0m\u001b[0;34m\u001b[0m\u001b[0m\n",
            "\u001b[0;32m/content/dna2vec/dna2vec/multi_k_model.py\u001b[0m in \u001b[0;36m<module>\u001b[0;34m()\u001b[0m\n\u001b[1;32m      1\u001b[0m \u001b[0;32mfrom\u001b[0m \u001b[0m__future__\u001b[0m \u001b[0;32mimport\u001b[0m \u001b[0mprint_function\u001b[0m\u001b[0;34m\u001b[0m\u001b[0;34m\u001b[0m\u001b[0m\n\u001b[1;32m      2\u001b[0m \u001b[0;34m\u001b[0m\u001b[0m\n\u001b[0;32m----> 3\u001b[0;31m \u001b[0;32mimport\u001b[0m \u001b[0mlogbook\u001b[0m\u001b[0;34m\u001b[0m\u001b[0;34m\u001b[0m\u001b[0m\n\u001b[0m\u001b[1;32m      4\u001b[0m \u001b[0;32mimport\u001b[0m \u001b[0mtempfile\u001b[0m\u001b[0;34m\u001b[0m\u001b[0;34m\u001b[0m\u001b[0m\n\u001b[1;32m      5\u001b[0m \u001b[0;32mimport\u001b[0m \u001b[0mnumpy\u001b[0m \u001b[0;32mas\u001b[0m \u001b[0mnp\u001b[0m\u001b[0;34m\u001b[0m\u001b[0;34m\u001b[0m\u001b[0m\n",
            "\u001b[0;31mModuleNotFoundError\u001b[0m: No module named 'logbook'",
            "",
            "\u001b[0;31m---------------------------------------------------------------------------\u001b[0;32m\nNOTE: If your import is failing due to a missing package, you can\nmanually install dependencies using either !pip or !apt.\n\nTo view examples of installing some common dependencies, click the\n\"Open Examples\" button below.\n\u001b[0;31m---------------------------------------------------------------------------\u001b[0m\n"
          ],
          "errorDetails": {
            "actions": [
              {
                "action": "open_url",
                "actionText": "Open Examples",
                "url": "/notebooks/snippets/importing_libraries.ipynb"
              }
            ]
          }
        }
      ]
    },
    {
      "cell_type": "code",
      "metadata": {
        "colab": {
          "base_uri": "https://localhost:8080/"
        },
        "id": "HQ-mC5U1hcTs",
        "outputId": "920d1869-c2eb-4937-87b5-6a27abf3d7c7"
      },
      "source": [
        "from tensorflow.python.client import device_lib\n",
        "tf.test.gpu_device_name()\n",
        "device_lib.list_local_devices()"
      ],
      "execution_count": null,
      "outputs": [
        {
          "output_type": "execute_result",
          "data": {
            "text/plain": [
              "[name: \"/device:CPU:0\"\n",
              " device_type: \"CPU\"\n",
              " memory_limit: 268435456\n",
              " locality {\n",
              " }\n",
              " incarnation: 1898894068086318938]"
            ]
          },
          "metadata": {},
          "execution_count": 11
        }
      ]
    },
    {
      "cell_type": "code",
      "metadata": {
        "id": "8eRRbULbhedr"
      },
      "source": [
        "#Avoid warnings\n",
        "import warnings\n",
        "warnings.filterwarnings('ignore')"
      ],
      "execution_count": null,
      "outputs": []
    },
    {
      "cell_type": "code",
      "metadata": {
        "id": "vbPHemKIhgyb"
      },
      "source": [
        "# Check running in colab\n",
        "try:\n",
        "  from google.colab import files\n",
        "  from google.colab import drive\n",
        "  IN_COLAB = True\n",
        "except:\n",
        "  IN_COLAB = False"
      ],
      "execution_count": null,
      "outputs": []
    },
    {
      "cell_type": "code",
      "metadata": {
        "colab": {
          "base_uri": "https://localhost:8080/"
        },
        "id": "y3rdxYBAhiBg",
        "outputId": "6f87bf88-f1e9-425b-f236-cc33cf4bb50e"
      },
      "source": [
        "#Configure colab vs local\n",
        "if (IN_COLAB == True) :\n",
        "  drive.mount('/content/drive', force_remount=True)\n",
        "  root_dir = \"/content/drive/My Drive/\"\n",
        "else:\n",
        "  root_dir = \"./\""
      ],
      "execution_count": null,
      "outputs": [
        {
          "output_type": "stream",
          "name": "stdout",
          "text": [
            "Mounted at /content/drive\n"
          ]
        }
      ]
    },
    {
      "cell_type": "markdown",
      "metadata": {
        "id": "9Wt-jGhPhoeg"
      },
      "source": [
        "# Data Loading"
      ]
    },
    {
      "cell_type": "code",
      "metadata": {
        "colab": {
          "base_uri": "https://localhost:8080/"
        },
        "id": "4TkXCv1bhoA9",
        "outputId": "a0300172-345a-407a-a0ce-812016c6d83a"
      },
      "source": [
        "hotspots = np.load(root_dir + \"Data/hotspots/kmers/hotspots-5k-list.npy\")\n",
        "labels = np.load(root_dir + \"Data/hotspots/kmers/labels_hotspots-5k-list.npy\")\n",
        "\n",
        "hotspots, labels = shuffle(hotspots, labels, random_state = 0)\n",
        "\n",
        "hotspots = hotspots[0:round((len(hotspots)/5))]\n",
        "labels = labels[0:round((len(labels)/5))]\n",
        "\n",
        "print(np.count_nonzero(labels == 0))\n",
        "print(np.count_nonzero(labels == 1))\n",
        "\n",
        "print('Hotspots loaded, length:', hotspots.shape)\n",
        "hotspots = hotspots.tolist()\n",
        "print('Labels loaded, shape: ', labels.shape)"
      ],
      "execution_count": null,
      "outputs": [
        {
          "output_type": "stream",
          "name": "stdout",
          "text": [
            "7641\n",
            "7793\n",
            "Hotspots loaded, length: (15434, 1496)\n",
            "Labels loaded, shape:  (15434,)\n"
          ]
        }
      ]
    },
    {
      "cell_type": "markdown",
      "metadata": {
        "id": "JM7de6A7kdjh"
      },
      "source": [
        "# NLP Processing"
      ]
    },
    {
      "cell_type": "code",
      "metadata": {
        "colab": {
          "base_uri": "https://localhost:8080/",
          "height": 90
        },
        "id": "C7qJN0QHkfI9",
        "outputId": "04ada9ab-40df-476f-f7fd-e9d795d372d8"
      },
      "source": [
        "\"\"\"def generateVocabulary(dataset):\n",
        "    vocab = set()\n",
        "    for kmer_list in dataset:\n",
        "        for kmer in kmer_list:\n",
        "            vocab.add(kmer)\n",
        "    return vocab\n",
        "\n",
        "vocabulary = generateVocabulary(hotspots)\n",
        "print(len(vocabulary))\n",
        "\n",
        "vocab_size = len(vocabulary)\n",
        "oov_token = 'oov'\n",
        "del vocabulary\n",
        "\n",
        "tokenizer = Tokenizer(num_words = vocab_size, oov_token=oov_token)\n",
        "tokenizer.fit_on_texts(hotspots)\n",
        "word_index = tokenizer.word_index\"\"\""
      ],
      "execution_count": null,
      "outputs": [
        {
          "output_type": "execute_result",
          "data": {
            "application/vnd.google.colaboratory.intrinsic+json": {
              "type": "string"
            },
            "text/plain": [
              "\"def generateVocabulary(dataset):\\n    vocab = set()\\n    for kmer_list in dataset:\\n        for kmer in kmer_list:\\n            vocab.add(kmer)\\n    return vocab\\n\\nvocabulary = generateVocabulary(hotspots)\\nprint(len(vocabulary))\\n\\nvocab_size = len(vocabulary)\\noov_token = 'oov'\\ndel vocabulary\\n\\ntokenizer = Tokenizer(num_words = vocab_size, oov_token=oov_token)\\ntokenizer.fit_on_texts(hotspots)\\nword_index = tokenizer.word_index\""
            ]
          },
          "metadata": {},
          "execution_count": 16
        }
      ]
    },
    {
      "cell_type": "code",
      "metadata": {
        "id": "bHO9eZ-EkwEh",
        "colab": {
          "base_uri": "https://localhost:8080/",
          "height": 36
        },
        "outputId": "a4542f71-c3a6-4887-b917-f1b808e393e9"
      },
      "source": [
        "\"\"\"hotspots = tokenizer.texts_to_sequences(hotspots)\n",
        "hotspots = np.array(hotspots)\"\"\""
      ],
      "execution_count": null,
      "outputs": [
        {
          "output_type": "execute_result",
          "data": {
            "application/vnd.google.colaboratory.intrinsic+json": {
              "type": "string"
            },
            "text/plain": [
              "'hotspots = tokenizer.texts_to_sequences(hotspots)\\nhotspots = np.array(hotspots)'"
            ]
          },
          "metadata": {},
          "execution_count": 17
        }
      ]
    },
    {
      "cell_type": "markdown",
      "metadata": {
        "id": "e6q6tM1SjZD4"
      },
      "source": [
        "# Word2Vec"
      ]
    },
    {
      "cell_type": "code",
      "metadata": {
        "colab": {
          "base_uri": "https://localhost:8080/"
        },
        "id": "w4u3ZzJyjYZ4",
        "outputId": "1762b783-9b94-408d-c105-32c51c1dd8f1"
      },
      "source": [
        "class callback(CallbackAny2Vec):\n",
        "    '''Callback to print loss after each epoch.'''\n",
        "\n",
        "    def __init__(self):\n",
        "        self.epoch = 0\n",
        "        self.loss_to_be_subed = 0\n",
        "\n",
        "    def on_epoch_end(self, model):\n",
        "        loss = model.get_latest_training_loss()\n",
        "        loss_now = loss - self.loss_to_be_subed\n",
        "        self.loss_to_be_subed = loss\n",
        "        print('Loss after epoch {}: {}'.format(self.epoch, loss_now))\n",
        "        self.epoch += 1\n",
        "\n",
        "word_model = Word2Vec(hotspots, size=100, min_count=5, window=5, iter=20, compute_loss=True, callbacks=[callback()])"
      ],
      "execution_count": null,
      "outputs": [
        {
          "output_type": "stream",
          "name": "stdout",
          "text": [
            "Loss after epoch 0: 3186364.25\n",
            "Loss after epoch 1: 1974185.25\n",
            "Loss after epoch 2: 1131395.5\n",
            "Loss after epoch 3: 794508.5\n",
            "Loss after epoch 4: 617892.5\n",
            "Loss after epoch 5: 520931.0\n",
            "Loss after epoch 6: 463826.0\n",
            "Loss after epoch 7: 425784.0\n",
            "Loss after epoch 8: 394244.0\n",
            "Loss after epoch 9: 401155.0\n",
            "Loss after epoch 10: 401154.0\n",
            "Loss after epoch 11: 413598.0\n",
            "Loss after epoch 12: 426489.0\n",
            "Loss after epoch 13: 456005.0\n",
            "Loss after epoch 14: 509537.0\n",
            "Loss after epoch 15: 576781.0\n",
            "Loss after epoch 16: 683499.0\n",
            "Loss after epoch 17: 890379.0\n",
            "Loss after epoch 18: 1194518.0\n",
            "Loss after epoch 19: 1042843.0\n"
          ]
        }
      ]
    },
    {
      "cell_type": "code",
      "metadata": {
        "colab": {
          "base_uri": "https://localhost:8080/"
        },
        "id": "PX57gQQ0lUQD",
        "outputId": "eba2c0bd-926d-4477-c862-dfaae4eb24b8"
      },
      "source": [
        "pretrained_weights = word_model.wv.syn0\n",
        "vocab_size, embedding_dim = pretrained_weights.shape\n",
        "print('Result embedding shape:', pretrained_weights.shape)\n",
        "print('Checking similar words:')\n",
        "for word in ['acacc']:\n",
        "  most_similar = ', '.join('%s (%.2f)' % (similar, dist) \n",
        "                           for similar, dist in word_model.most_similar(word)[:8])\n",
        "  print('  %s -> %s' % (word, most_similar))\n",
        "\n",
        "def word2idx(word):\n",
        "  return word_model.wv.vocab[word].index\n",
        "def idx2word(idx):\n",
        "  return word_model.wv.index2word[idx]"
      ],
      "execution_count": null,
      "outputs": [
        {
          "output_type": "stream",
          "name": "stdout",
          "text": [
            "Result embedding shape: (1363, 100)\n",
            "Checking similar words:\n",
            "  acacc -> tcacc (0.96), gcacc (0.95), ccacc (0.93), acccn (0.44), gcggn (0.42), acagn (0.41), gcagn (0.41), tcagn (0.38)\n"
          ]
        }
      ]
    },
    {
      "cell_type": "code",
      "metadata": {
        "id": "lUVV9BAa6pVX"
      },
      "source": [
        "#Comments to wordembedding vector\n",
        "embedding = []\n",
        "\n",
        "for idx, sample in enumerate(hotspots):\n",
        "    current_obs = []\n",
        "    for idx2, token in enumerate(sample):\n",
        "        try:\n",
        "            wordy = word2idx(token)\n",
        "            current_obs.append(wordy)\n",
        "        except:\n",
        "            current_obs.append(\"0\")\n",
        "\n",
        "    \n",
        "    l = len(sample)\n",
        "    \n",
        "    for i in range(l, 1500):\n",
        "        current_obs.append(\"0\")\n",
        "\n",
        "\n",
        "    embedding.append(current_obs)\n",
        "\n",
        "#embedding = np.asarray(embedding)"
      ],
      "execution_count": null,
      "outputs": []
    },
    {
      "cell_type": "markdown",
      "metadata": {
        "id": "8lzvk876jzRI"
      },
      "source": [
        "# Neural Network"
      ]
    },
    {
      "cell_type": "markdown",
      "metadata": {
        "id": "CiHcbN6wj233"
      },
      "source": [
        "## Hyperparameters\n",
        "\n"
      ]
    },
    {
      "cell_type": "code",
      "metadata": {
        "id": "R5aY8AmsjKBF"
      },
      "source": [
        "epochs=50\n",
        "learning_rate = 0.01"
      ],
      "execution_count": null,
      "outputs": []
    },
    {
      "cell_type": "markdown",
      "metadata": {
        "id": "eclde_Hxj9pq"
      },
      "source": [
        "## Model Definition"
      ]
    },
    {
      "cell_type": "code",
      "metadata": {
        "id": "m5ekOLW8kAGB"
      },
      "source": [
        "def createModel(vocab_size, embedding_dim):\n",
        "  model = Sequential()\n",
        "  model.add(Embedding(input_dim=vocab_size,\n",
        "                      output_dim=embedding_dim,\n",
        "                      weights=[pretrained_weights]))\n",
        "  model.add(Dropout(0))\n",
        "  model.add(LSTM(embedding_dim))\n",
        "  model.add(Dense(2, activation='softmax'))\n",
        "  return model"
      ],
      "execution_count": null,
      "outputs": []
    },
    {
      "cell_type": "code",
      "metadata": {
        "id": "kQ6x_au6kEeH"
      },
      "source": [
        "def createOptimizer(model):\n",
        "\n",
        "  optimizer = tf.keras.optimizers.Adam(lr=learning_rate, decay=1e-6)\n",
        "\n",
        "  model.compile(loss=\"binary_crossentropy\",\n",
        "                optimizer=optimizer,\n",
        "                metrics = ['accuracy'])\n",
        "  return model"
      ],
      "execution_count": null,
      "outputs": []
    },
    {
      "cell_type": "code",
      "metadata": {
        "colab": {
          "base_uri": "https://localhost:8080/"
        },
        "id": "DAIRYknukNXX",
        "outputId": "b2d419f8-fd86-4885-c8d2-69176c5097bd"
      },
      "source": [
        "model = createModel(vocab_size, embedding_dim)\n",
        "model = createOptimizer(model)\n",
        "model.summary()"
      ],
      "execution_count": null,
      "outputs": [
        {
          "output_type": "stream",
          "name": "stdout",
          "text": [
            "Model: \"sequential_1\"\n",
            "_________________________________________________________________\n",
            "Layer (type)                 Output Shape              Param #   \n",
            "=================================================================\n",
            "embedding_1 (Embedding)      (None, None, 100)         134800    \n",
            "_________________________________________________________________\n",
            "dropout_1 (Dropout)          (None, None, 100)         0         \n",
            "_________________________________________________________________\n",
            "lstm_1 (LSTM)                (None, 100)               80400     \n",
            "_________________________________________________________________\n",
            "dense_1 (Dense)              (None, 2)                 202       \n",
            "=================================================================\n",
            "Total params: 215,402\n",
            "Trainable params: 215,402\n",
            "Non-trainable params: 0\n",
            "_________________________________________________________________\n"
          ]
        }
      ]
    },
    {
      "cell_type": "markdown",
      "metadata": {
        "id": "ZPXJ70TNk7cv"
      },
      "source": [
        "## Training"
      ]
    },
    {
      "cell_type": "code",
      "metadata": {
        "id": "-ny3bBnHkk3u"
      },
      "source": [
        "embedding = np.array(embedding)\n",
        "x_train, x_test, y_train, y_test = train_test_split(embedding, labels, test_size=0.1, shuffle=True)\n",
        "\n",
        "#x_train = x_train[0:round((len(x_train)/4))]\n",
        "#y_train = y_train[0:round((len(y_train)/4))]"
      ],
      "execution_count": null,
      "outputs": []
    },
    {
      "cell_type": "code",
      "metadata": {
        "colab": {
          "base_uri": "https://localhost:8080/"
        },
        "id": "W9SwasYUk88U",
        "outputId": "81338a44-2079-4344-a933-8d21ca61c5fd"
      },
      "source": [
        "x_train = x_train.astype('float32')\n",
        "x_test = x_test.astype('float32')\n",
        "\n",
        "y_true_max = y_test\n",
        "\n",
        "y_train = to_categorical(y_train, num_classes=2)\n",
        "y_test = to_categorical(y_test, num_classes=2)\n",
        "\n",
        "history = model.fit(x_train, y_train, validation_data=(x_test, y_test), epochs=epochs, shuffle=True, verbose=2)"
      ],
      "execution_count": null,
      "outputs": [
        {
          "output_type": "stream",
          "name": "stdout",
          "text": [
            "Epoch 1/50\n",
            "272/272 - 350s - loss: 0.7636 - accuracy: 0.4966 - val_loss: 0.6990 - val_accuracy: 0.4860\n",
            "Epoch 2/50\n",
            "272/272 - 349s - loss: 0.7297 - accuracy: 0.5046 - val_loss: 0.6969 - val_accuracy: 0.4870\n",
            "Epoch 3/50\n",
            "272/272 - 346s - loss: 0.7368 - accuracy: 0.5004 - val_loss: 0.6957 - val_accuracy: 0.4870\n",
            "Epoch 4/50\n",
            "272/272 - 347s - loss: 0.7437 - accuracy: 0.5102 - val_loss: 0.8596 - val_accuracy: 0.4870\n",
            "Epoch 5/50\n",
            "272/272 - 345s - loss: 0.7837 - accuracy: 0.4968 - val_loss: 1.0731 - val_accuracy: 0.4870\n",
            "Epoch 6/50\n",
            "272/272 - 346s - loss: 0.7461 - accuracy: 0.5089 - val_loss: 0.8936 - val_accuracy: 0.5130\n",
            "Epoch 7/50\n",
            "272/272 - 346s - loss: 0.7549 - accuracy: 0.4936 - val_loss: 0.7269 - val_accuracy: 0.4870\n",
            "Epoch 8/50\n",
            "272/272 - 346s - loss: 0.7416 - accuracy: 0.4984 - val_loss: 0.7033 - val_accuracy: 0.5130\n",
            "Epoch 9/50\n",
            "272/272 - 345s - loss: 0.7360 - accuracy: 0.4994 - val_loss: 0.7009 - val_accuracy: 0.5130\n",
            "Epoch 10/50\n",
            "272/272 - 345s - loss: 0.7366 - accuracy: 0.5063 - val_loss: 0.7250 - val_accuracy: 0.5130\n",
            "Epoch 11/50\n",
            "272/272 - 346s - loss: 0.7328 - accuracy: 0.4987 - val_loss: 0.7039 - val_accuracy: 0.5130\n",
            "Epoch 12/50\n",
            "272/272 - 345s - loss: 0.7347 - accuracy: 0.5049 - val_loss: 0.6970 - val_accuracy: 0.4943\n",
            "Epoch 13/50\n",
            "272/272 - 345s - loss: 0.7287 - accuracy: 0.5052 - val_loss: 0.6984 - val_accuracy: 0.4933\n",
            "Epoch 14/50\n"
          ]
        }
      ]
    },
    {
      "cell_type": "markdown",
      "metadata": {
        "id": "lvJe1Y6Ynhdr"
      },
      "source": [
        "# Results"
      ]
    },
    {
      "cell_type": "markdown",
      "metadata": {
        "id": "0pKj2Yt-nkYp"
      },
      "source": [
        "## Architecture"
      ]
    },
    {
      "cell_type": "code",
      "metadata": {
        "id": "YOQnh-hjnizy"
      },
      "source": [
        "keras.utils.plot_model(model, root_dir +'multi_input_and_output_model.png', show_shapes=True)"
      ],
      "execution_count": null,
      "outputs": []
    },
    {
      "cell_type": "markdown",
      "metadata": {
        "id": "9RwIunrhnoHM"
      },
      "source": [
        "## Confussion Matrix"
      ]
    },
    {
      "cell_type": "code",
      "metadata": {
        "id": "xVzYRX78nq6W"
      },
      "source": [
        "y_pred=np.argmax(model.predict(x_test), axis=-1)\n",
        "class_names = [\"Hotspot\", \"No Hotspot\"]\n",
        "con_mat = tf.math.confusion_matrix(labels=y_true_max, predictions=y_pred).numpy()\n",
        "con_mat_norm = np.around(con_mat.astype('float') / con_mat.sum(axis=1)[:, np.newaxis], decimals=2)\n",
        "con_mat_df = pd.DataFrame(con_mat_norm, index = class_names, columns = class_names)\n",
        "\n",
        "print('Accuracy Y_test: ', accuracy_score(y_true_max, y_pred))\n",
        "figure = plt.figure(figsize=(8, 8))\n",
        "sns.heatmap(con_mat_df, annot=True,cmap=plt.cm.Blues)\n",
        "plt.tight_layout()\n",
        "plt.ylabel('True label')\n",
        "plt.xlabel('Predicted label')\n",
        "plt.show()"
      ],
      "execution_count": null,
      "outputs": []
    },
    {
      "cell_type": "markdown",
      "metadata": {
        "id": "HIbT9dqhpHbu"
      },
      "source": [
        "## Accuracy"
      ]
    },
    {
      "cell_type": "code",
      "metadata": {
        "id": "Tn9ZZNGGpIx8"
      },
      "source": [
        "plt.plot(history.history['accuracy'])\n",
        "plt.plot(history.history['val_accuracy'])\n",
        "plt.title('model accuracy')\n",
        "plt.ylabel('accuracy')\n",
        "plt.xlabel('epoch')\n",
        "plt.legend(['train', 'test'], loc='upper left')\n",
        "plt.show()"
      ],
      "execution_count": null,
      "outputs": []
    },
    {
      "cell_type": "markdown",
      "metadata": {
        "id": "xfMkkKIupJpq"
      },
      "source": [
        "## Loss"
      ]
    },
    {
      "cell_type": "code",
      "metadata": {
        "id": "Do-uwqV8pKrD"
      },
      "source": [
        "plt.plot(history.history['loss'])\n",
        "plt.plot(history.history['val_loss'])\n",
        "plt.title('model loss')\n",
        "plt.ylabel('loss')\n",
        "plt.xlabel('epoch')\n",
        "plt.legend(['train', 'test'], loc='upper left')\n",
        "plt.show()"
      ],
      "execution_count": null,
      "outputs": []
    }
  ]
}