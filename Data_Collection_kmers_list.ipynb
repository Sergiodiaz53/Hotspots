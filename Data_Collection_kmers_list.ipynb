{
  "nbformat": 4,
  "nbformat_minor": 0,
  "metadata": {
    "colab": {
      "name": "Data Collection - kmers list",
      "provenance": [],
      "authorship_tag": "ABX9TyNX1ueEhWjjB/xQWwxn0+V1"
    },
    "kernelspec": {
      "name": "python3",
      "display_name": "Python 3"
    },
    "language_info": {
      "name": "python"
    }
  },
  "cells": [
    {
      "cell_type": "code",
      "metadata": {
        "colab": {
          "base_uri": "https://localhost:8080/"
        },
        "id": "B_I6wMVanPil",
        "outputId": "0bfe3671-77bb-4e58-e97b-41c3b663f552"
      },
      "source": [
        "# Non-included packages\n",
        "!pip install biopython"
      ],
      "execution_count": 9,
      "outputs": [
        {
          "output_type": "stream",
          "name": "stdout",
          "text": [
            "Requirement already satisfied: biopython in /usr/local/lib/python3.7/dist-packages (1.79)\n",
            "Requirement already satisfied: numpy in /usr/local/lib/python3.7/dist-packages (from biopython) (1.19.5)\n"
          ]
        }
      ]
    },
    {
      "cell_type": "code",
      "metadata": {
        "id": "IPYKukY5OJyg"
      },
      "source": [
        "#Packages\n",
        "%tensorflow_version 2.x\n",
        "import tensorflow as tf\n",
        "from tensorflow import keras\n",
        "import nltk\n",
        "import random\n",
        "import matplotlib.pyplot as plt\n",
        "\n",
        "import numpy as np\n",
        "import pandas as pd\n",
        "import seaborn as sns\n",
        "from Bio import SeqIO\n",
        "\n",
        "#Tools\n",
        "from google.colab import drive\n",
        "from tensorflow.keras import Sequential\n",
        "from tensorflow.keras.layers import Embedding, LSTM, Dense, Dropout\n",
        "from tensorflow.keras.preprocessing.text import Tokenizer\n",
        "from tensorflow.keras.preprocessing.sequence import pad_sequences\n",
        "from sklearn.utils import class_weight\n",
        "from sklearn.model_selection import train_test_split\n",
        "from tensorflow.keras.utils import to_categorical"
      ],
      "execution_count": 10,
      "outputs": []
    },
    {
      "cell_type": "code",
      "metadata": {
        "colab": {
          "base_uri": "https://localhost:8080/"
        },
        "id": "z7vUXdc_OMqy",
        "outputId": "c7441f93-d014-4a4e-aeab-2e9138e14a15"
      },
      "source": [
        "from tensorflow.python.client import device_lib\n",
        "tf.test.gpu_device_name()\n",
        "device_lib.list_local_devices()"
      ],
      "execution_count": 11,
      "outputs": [
        {
          "output_type": "execute_result",
          "data": {
            "text/plain": [
              "[name: \"/device:CPU:0\"\n",
              " device_type: \"CPU\"\n",
              " memory_limit: 268435456\n",
              " locality {\n",
              " }\n",
              " incarnation: 6437909849730912190]"
            ]
          },
          "metadata": {},
          "execution_count": 11
        }
      ]
    },
    {
      "cell_type": "code",
      "metadata": {
        "id": "enjy7Kl_OMwM"
      },
      "source": [
        "#Avoid warnings\n",
        "import warnings\n",
        "warnings.filterwarnings('ignore')"
      ],
      "execution_count": 12,
      "outputs": []
    },
    {
      "cell_type": "code",
      "metadata": {
        "id": "Y4PlU_p_OTV4"
      },
      "source": [
        "# Check running in colab\n",
        "try:\n",
        "  from google.colab import files\n",
        "  from google.colab import drive\n",
        "  IN_COLAB = True\n",
        "except:\n",
        "  IN_COLAB = False"
      ],
      "execution_count": 13,
      "outputs": []
    },
    {
      "cell_type": "code",
      "metadata": {
        "colab": {
          "base_uri": "https://localhost:8080/"
        },
        "id": "sby7qvQ3OUdi",
        "outputId": "0c59100f-ace6-434b-bb2c-4dda04ecd4be"
      },
      "source": [
        "#Configure colab vs local\n",
        "if (IN_COLAB == True) :\n",
        "  drive.mount('/content/drive', force_remount=True)\n",
        "  root_dir = \"/content/drive/My Drive/\"\n",
        "else:\n",
        "  root_dir = \"./\""
      ],
      "execution_count": 14,
      "outputs": [
        {
          "output_type": "stream",
          "name": "stdout",
          "text": [
            "Mounted at /content/drive\n"
          ]
        }
      ]
    },
    {
      "cell_type": "markdown",
      "metadata": {
        "id": "cEqILu_jOWuk"
      },
      "source": [
        "## Data loading"
      ]
    },
    {
      "cell_type": "code",
      "metadata": {
        "id": "VtRm5jbdOY89"
      },
      "source": [
        "# Load hotspots\n",
        "# Only hotspots of up to length 1,500 bp were taken\n",
        "# Those that were shorter than 1,500 bp were padded with N's\n",
        "\n",
        "hotspots = list(SeqIO.parse(root_dir + \"Data/hotspots/fasta/\" + \"combined-max-1500-padded-REMOVED-BAD.fasta\", \"fasta\"))\n",
        "\n",
        "# These random sequences were generated from all parts of the human genome\n",
        "# They were generated with the exact length profile of the hotspots\n",
        "# i.e. hotspots and sequences have the same amount of padding, which is up to 1,500 bps\n",
        "\n",
        "nohotspots = list(SeqIO.parse(root_dir + \"Data/hotspots/fasta/\" + \"sample-max-1500-padded-REMOVED-BAD.fasta\", \"fasta\"))"
      ],
      "execution_count": 15,
      "outputs": []
    },
    {
      "cell_type": "markdown",
      "metadata": {
        "id": "BdSnuizhO11h"
      },
      "source": [
        "## Data Preprocessing"
      ]
    },
    {
      "cell_type": "markdown",
      "metadata": {
        "id": "9DBqIqLBO8RI"
      },
      "source": [
        "### Generate list of kmers"
      ]
    },
    {
      "cell_type": "code",
      "metadata": {
        "id": "rwx4lMBmO8at"
      },
      "source": [
        "k=5\n",
        "\n",
        "def getKmers(sequence, size=5):\n",
        "    return [str(sequence[x:x+size].lower()) for x in range(len(sequence) - size + 1)]\n",
        "\n",
        "hotspots_list = []\n",
        "for i, seq_record in enumerate(hotspots):\n",
        "    hotspots_list.append(getKmers(seq_record.seq, size=k))\n",
        "del hotspots\n",
        "\n",
        "nohotspots_list = []\n",
        "for i, seq_record in enumerate(nohotspots):\n",
        "    nohotspots_list.append(getKmers(seq_record.seq, size=k))\n",
        "del nohotspots"
      ],
      "execution_count": 16,
      "outputs": []
    },
    {
      "cell_type": "markdown",
      "metadata": {
        "id": "bRdpqoGPXOYK"
      },
      "source": [
        "### Generate labels"
      ]
    },
    {
      "cell_type": "code",
      "metadata": {
        "id": "2952O0GJXQuT"
      },
      "source": [
        "labels_hotspots = np.zeros(len(hotspots_list))\n",
        "labels_nohotspots = np.ones(len(nohotspots_list))"
      ],
      "execution_count": 17,
      "outputs": []
    },
    {
      "cell_type": "markdown",
      "metadata": {
        "id": "gNw7ndXXX7_R"
      },
      "source": [
        "### Create dataset"
      ]
    },
    {
      "cell_type": "code",
      "metadata": {
        "id": "Gdfbf3gOX-ts"
      },
      "source": [
        "hotspots = np.array(hotspots_list + nohotspots_list)\n",
        "labels = np.array(labels_hotspots + labels_nohotspots)"
      ],
      "execution_count": 18,
      "outputs": []
    },
    {
      "cell_type": "code",
      "metadata": {
        "id": "VU-fTp_iZj1K"
      },
      "source": [
        "del hotspots_list\n",
        "del nohotspots_list\n",
        "del labels_hotspots\n",
        "del labels_nohotspots"
      ],
      "execution_count": 19,
      "outputs": []
    },
    {
      "cell_type": "markdown",
      "metadata": {
        "id": "GYnJg0NnYjFo"
      },
      "source": [
        "## Save\n",
        "\n"
      ]
    },
    {
      "cell_type": "code",
      "metadata": {
        "id": "DqrSmcrXYncf"
      },
      "source": [
        "np.save(root_dir + \"Data/hotspots/kmers/hotspots-5k-list\",hotspots)\n",
        "np.save(root_dir + \"Data/hotspots/kmers/labels_hotspots-5k-list\",labels)"
      ],
      "execution_count": 20,
      "outputs": []
    }
  ]
}