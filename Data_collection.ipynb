{
  "nbformat": 4,
  "nbformat_minor": 0,
  "metadata": {
    "colab": {
      "name": "Data collection",
      "provenance": [],
      "authorship_tag": "ABX9TyOvhv7CC/Qswk7Gx7Nqnt6n"
    },
    "kernelspec": {
      "name": "python3",
      "display_name": "Python 3"
    },
    "language_info": {
      "name": "python"
    }
  },
  "cells": [
    {
      "cell_type": "code",
      "metadata": {
        "colab": {
          "base_uri": "https://localhost:8080/"
        },
        "id": "B_I6wMVanPil",
        "outputId": "dca00faf-c618-4336-b8c8-db700d2c5739"
      },
      "source": [
        "# Non-included packages\n",
        "!pip install biopython"
      ],
      "execution_count": 12,
      "outputs": [
        {
          "output_type": "stream",
          "name": "stdout",
          "text": [
            "Requirement already satisfied: biopython in /usr/local/lib/python3.7/dist-packages (1.79)\n",
            "Requirement already satisfied: numpy in /usr/local/lib/python3.7/dist-packages (from biopython) (1.19.5)\n"
          ]
        }
      ]
    },
    {
      "cell_type": "code",
      "metadata": {
        "id": "kKy51Ze2nYST"
      },
      "source": [
        "# Imports\n",
        "import pandas as pd\n",
        "import numpy as np\n",
        "import re\n",
        "\n",
        "#Tools\n",
        "from sklearn.preprocessing import MinMaxScaler\n",
        "from google.colab import drive\n",
        "from Bio import SeqIO\n",
        "\n",
        "#Configuration\n",
        "%matplotlib inline"
      ],
      "execution_count": 13,
      "outputs": []
    },
    {
      "cell_type": "code",
      "metadata": {
        "colab": {
          "base_uri": "https://localhost:8080/"
        },
        "id": "7M6L4_kBnaey",
        "outputId": "3cfd1362-22dd-49e2-8cba-ae098d4f618d"
      },
      "source": [
        "#mount Drive\n",
        "drive.mount('/content/drive', force_remount=True)\n",
        "root_dir = \"/content/drive/My Drive/\" "
      ],
      "execution_count": 14,
      "outputs": [
        {
          "output_type": "stream",
          "name": "stdout",
          "text": [
            "Mounted at /content/drive\n"
          ]
        }
      ]
    },
    {
      "cell_type": "code",
      "metadata": {
        "id": "BkWvtmmknai7"
      },
      "source": [
        "# Load hotspots\n",
        "# Only hotspots of up to length 1,500 bp were taken\n",
        "# Those that were shorter than 1,500 bp were padded with N's\n",
        "\n",
        "hotspots = list(SeqIO.parse(root_dir + \"Data/hotspots/fasta/\" + \"combined-max-1500-padded-REMOVED-BAD.fasta\", \"fasta\"))\n",
        "\n",
        "# These random sequences were generated from all parts of the human genome\n",
        "# They were generated with the exact length profile of the hotspots\n",
        "# i.e. hotspots and sequences have the same amount of padding, which is up to 1,500 bps\n",
        "\n",
        "nohotspots = list(SeqIO.parse(root_dir + \"Data/hotspots/fasta/\" + \"sample-max-1500-padded-REMOVED-BAD.fasta\", \"fasta\"))"
      ],
      "execution_count": 15,
      "outputs": []
    },
    {
      "cell_type": "code",
      "metadata": {
        "id": "pLpxdDYSngRZ"
      },
      "source": [
        "# Function to convert sequence strings into k-mer words, default size = 6 (hexamer words)\n",
        "def getKmers(sequence, size=5):\n",
        "    return [sequence[x:x+size].lower() for x in range(len(sequence) - size + 1)]\n",
        "\n",
        "# Which poly's we will be looking for\n",
        "interesting_polys = ['AAAAAAAAAAAA', 'TTTTTTTTTTTT', 'TGTGTGTGTGTG', 'GTGTGTGTGTGT', 'CACACACACACA', 'ACACACACACAC',\n",
        "                     'ATATATATATAT', 'TATATATATATA', 'TTAAAAAAAAAA', 'TTTTTTTTTTAA', 'CTGTAATCCCAG', 'CCTGTAATCCCA',\n",
        "                     'CTGGGATTACAG', 'TGGGATTACAGG', 'TGTAATCCCAGC', 'CCTCAGCCTCCC', 'GCTGGGATTACA', 'GGGAGGCTGAGG',\n",
        "                     'CCTTTTTTTTTT', 'AAAAAAAAAAGG', 'AAAAAAAGAAAG', 'CTTTCTTTTTTT', 'TAAAAATAAAAA', 'TTTTTATTTTTA',\n",
        "                     'CCAAAAAAAAAA', 'GCCTCAGCCTCC', 'TTTTTTTTTTGG', 'CTTTTTTTTTTG', 'CAAAAAAAAAAG', 'GGAGGCTGAGGC' ]\n",
        "\n",
        "# Function to find different poly's in a hotspot and add them as features\n",
        "def compute_polys(string):\n",
        "    matched_polys = np.zeros(len(interesting_polys))\n",
        "    for idx, poly in enumerate(interesting_polys):\n",
        "        #Sum of found polys \n",
        "        \"\"\"\n",
        "        res = len(re.findall(poly, string))\n",
        "        matched_polys[idx] = res\n",
        "        \"\"\"\n",
        "\n",
        "        #Polys at 1 if found\n",
        "        found = string.find(poly)\n",
        "        if (found != -1):\n",
        "            matched_polys[idx] = 1\n",
        "        \n",
        "    return matched_polys\n",
        "\n",
        "def compute_hash(string):\n",
        "    hashv = 0\n",
        "    value = {\"a\":0, \"c\":1, \"g\":2, \"t\":3}\n",
        "    i = len(string)-1\n",
        "    for nucl in string:\n",
        "        if(nucl == 'n'): return -1\n",
        "        hashv = hashv + (4**i) * value[nucl]\n",
        "        i = i - 1\n",
        "    return hashv"
      ],
      "execution_count": 16,
      "outputs": []
    },
    {
      "cell_type": "code",
      "metadata": {
        "id": "gH3fGSYwoI0p"
      },
      "source": [
        "# Definitions on data\n",
        "k = 3 # Kmer size\n",
        "n_seqs = len(hotspots)\n",
        "npolys = len(interesting_polys)\n",
        "nmers = 4**k\n",
        "LEN_ITEM = 1500 # length of a hotspot / no hotspot"
      ],
      "execution_count": 17,
      "outputs": []
    },
    {
      "cell_type": "code",
      "metadata": {
        "colab": {
          "base_uri": "https://localhost:8080/"
        },
        "id": "LnLcjtN0KmWg",
        "outputId": "ff8f9eb0-0309-4a95-ee72-267b576ac7b6"
      },
      "source": [
        "print(getKmers(hotspots[0].seq))\n",
        "print(compute_hash(\"ttttt\"))"
      ],
      "execution_count": 18,
      "outputs": [
        {
          "output_type": "stream",
          "name": "stdout",
          "text": [
            "[Seq('ctggt'), Seq('tggtg'), Seq('ggtga'), Seq('gtgag'), Seq('tgagc'), Seq('gagct'), Seq('agctc'), Seq('gctca'), Seq('ctcag'), Seq('tcagc'), Seq('cagcc'), Seq('agcca'), Seq('gccat'), Seq('ccatg'), Seq('catgg'), Seq('atggc'), Seq('tggcc'), Seq('ggcct'), Seq('gcctt'), Seq('ccttg'), Seq('cttgg'), Seq('ttggg'), Seq('tgggt'), Seq('gggtc'), Seq('ggtct'), Seq('gtctg'), Seq('tctga'), Seq('ctgaa'), Seq('tgaag'), Seq('gaagc'), Seq('aagca'), Seq('agcac'), Seq('gcaca'), Seq('cacag'), Seq('acaga'), Seq('cagag'), Seq('agagc'), Seq('gagct'), Seq('agctg'), Seq('gctgt'), Seq('ctgtg'), Seq('tgtgt'), Seq('gtgtg'), Seq('tgtgg'), Seq('gtgga'), Seq('tggag'), Seq('ggagt'), Seq('gagtc'), Seq('agtct'), Seq('gtctg'), Seq('tctgg'), Seq('ctggg'), Seq('tgggc'), Seq('gggcg'), Seq('ggcgg'), Seq('gcgga'), Seq('cggaa'), Seq('ggaat'), Seq('gaatg'), Seq('aatgc'), Seq('atgct'), Seq('tgctc'), Seq('gctcg'), Seq('ctcgc'), Seq('tcgct'), Seq('cgctg'), Seq('gctgg'), Seq('ctggc'), Seq('tggct'), Seq('ggctc'), Seq('gctca'), Seq('ctcac'), Seq('tcact'), Seq('cactg'), Seq('actgg'), Seq('ctggg'), Seq('tgggg'), Seq('ggggc'), Seq('gggca'), Seq('ggcat'), Seq('gcatg'), Seq('catgc'), Seq('atgcg'), Seq('tgcgt'), Seq('gcgtg'), Seq('cgtga'), Seq('gtgaa'), Seq('tgaaa'), Seq('gaaag'), Seq('aaagc'), Seq('aagcc'), Seq('agccc'), Seq('gccca'), Seq('cccag'), Seq('ccagg'), Seq('cagga'), Seq('aggag'), Seq('ggagt'), Seq('gagtt'), Seq('agttt'), Seq('gtttt'), Seq('ttttg'), Seq('tttgc'), Seq('ttgca'), Seq('tgcat'), Seq('gcatc'), Seq('catcc'), Seq('atcct'), Seq('tcctc'), Seq('cctct'), Seq('ctctg'), Seq('tctgc'), Seq('ctgcc'), Seq('tgccc'), Seq('gcccc'), Seq('ccccg'), Seq('cccga'), Seq('ccgag'), Seq('cgaga'), Seq('gagaa'), Seq('agaat'), Seq('gaatt'), Seq('aattc'), Seq('attcc'), Seq('ttcca'), Seq('tccag'), Seq('ccagc'), Seq('cagca'), Seq('agcaa'), Seq('gcaaa'), Seq('caaag'), Seq('aaagc'), Seq('aagcg'), Seq('agcgg'), Seq('gcgga'), Seq('cggaa'), Seq('ggaag'), Seq('gaaga'), Seq('aagat'), Seq('agata'), Seq('gatac'), Seq('ataca'), Seq('tacat'), Seq('acatc'), Seq('catcc'), Seq('atccg'), Seq('tccgt'), Seq('ccgtg'), Seq('cgtgc'), Seq('gtgca'), Seq('tgcat'), Seq('gcatt'), Seq('cattt'), Seq('atttc'), Seq('tttcc'), Seq('ttccc'), Seq('tccct'), Seq('cccta'), Seq('cctag'), Seq('ctagg'), Seq('tagga'), Seq('aggaa'), Seq('ggaag'), Seq('gaagg'), Seq('aaggg'), Seq('agggg'), Seq('ggggg'), Seq('ggggc'), Seq('gggct'), Seq('ggctg'), Seq('gctga'), Seq('ctgaa'), Seq('tgaat'), Seq('gaatc'), Seq('aatcc'), Seq('atcca'), Seq('tccag'), Seq('ccagg'), Seq('caggg'), Seq('aggga'), Seq('gggag'), Seq('ggagc'), Seq('gagcc'), Seq('agcca'), Seq('gccaa'), Seq('ccaag'), Seq('caagt'), Seq('aagtg'), Seq('agtga'), Seq('gtgac'), Seq('tgaca'), Seq('gacat'), Seq('acatc'), Seq('catca'), Seq('atcat'), Seq('tcatt'), Seq('cattc'), Seq('attct'), Seq('ttctg'), Seq('tctga'), Seq('ctgag'), Seq('tgagg'), Seq('gaggc'), Seq('aggcc'), Seq('ggccc'), Seq('gcccc'), Seq('cccca'), Seq('cccac'), Seq('ccact'), Seq('cactc'), Seq('actcc'), Seq('ctccc'), Seq('tccca'), Seq('cccac'), Seq('ccaca'), Seq('cacag'), Seq('acagc'), Seq('cagca'), Seq('agcac'), Seq('gcacc'), Seq('cacct'), Seq('acctc'), Seq('cctca'), Seq('ctcac'), Seq('tcaca'), Seq('cacaa'), Seq('acaag'), Seq('caagt'), Seq('aagtc'), Seq('agtcc'), Seq('gtccc'), Seq('tccca'), Seq('cccat'), Seq('ccatt'), Seq('cattg'), Seq('attgg'), Seq('ttggc'), Seq('tggct'), Seq('ggctt'), Seq('gcttg'), Seq('cttgg'), Seq('ttgga'), Seq('tggaa'), Seq('ggaat'), Seq('gaatt'), Seq('aattc'), Seq('attcc'), Seq('ttcca'), Seq('tccag'), Seq('ccagc'), Seq('cagct'), Seq('agctg'), Seq('gctgg'), Seq('ctggc'), Seq('tggcc'), Seq('ggcca'), Seq('gccag'), Seq('ccagc'), Seq('cagcg'), Seq('agcgg'), Seq('gcggc'), Seq('cggca'), Seq('ggcag'), Seq('gcagc'), Seq('cagca'), Seq('agcaa'), Seq('gcaag'), Seq('caagc'), Seq('aagct'), Seq('agctg'), Seq('gctgg'), Seq('ctgga'), Seq('tggag'), Seq('ggaga'), Seq('gagac'), Seq('agaca'), Seq('gacag'), Seq('acagc'), Seq('cagcc'), Seq('agccg'), Seq('gccgg'), Seq('ccgga'), Seq('cggag'), Seq('ggaga'), Seq('gagat'), Seq('agatg'), Seq('gatgg'), Seq('atgga'), Seq('tggac'), Seq('ggacc'), Seq('gaccg'), Seq('accgg'), Seq('ccggg'), Seq('cgggt'), Seq('gggtt'), Seq('ggttc'), Seq('gttcc'), Seq('ttccc'), Seq('tcccg'), Seq('cccgg'), Seq('ccggg'), Seq('cgggg'), Seq('ggggt'), Seq('gggta'), Seq('ggtag'), Seq('gtagg'), Seq('taggg'), Seq('agggc'), Seq('gggca'), Seq('ggcag'), Seq('gcagc'), Seq('cagcc'), Seq('agcca'), Seq('gccac'), Seq('ccact'), Seq('cactc'), Seq('actct'), Seq('ctcta'), Seq('tctat'), Seq('ctatc'), Seq('tatct'), Seq('atctg'), Seq('tctgt'), Seq('ctgtg'), Seq('tgtgg'), Seq('gtggt'), Seq('tggtt'), Seq('ggttt'), Seq('gtttg'), Seq('tttga'), Seq('ttgaa'), Seq('tgaat'), Seq('gaatt'), Seq('aattg'), Seq('attgg'), Seq('ttggc'), Seq('tggcc'), Seq('ggccg'), Seq('gccgc'), Seq('ccgct'), Seq('cgctc'), Seq('gctct'), Seq('ctcta'), Seq('tctag'), Seq('ctagc'), Seq('tagcc'), Seq('agcct'), Seq('gcctg'), Seq('cctgc'), Seq('ctgct'), Seq('tgctg'), Seq('gctgg'), Seq('ctggc'), Seq('tggca'), Seq('ggcac'), Seq('gcacc'), Seq('cacca'), Seq('accag'), Seq('ccagg'), Seq('caggg'), Seq('aggga'), Seq('gggac'), Seq('ggacc'), Seq('gacca'), Seq('accag'), Seq('ccagg'), Seq('cagga'), Seq('aggag'), Seq('ggagg'), Seq('gagga'), Seq('aggag'), Seq('ggagt'), Seq('gagtc'), Seq('agtcc'), Seq('gtccc'), Seq('tcccc'), Seq('ccccc'), Seq('cccca'), Seq('cccat'), Seq('ccata'), Seq('cataa'), Seq('ataac'), Seq('taaca'), Seq('aacac'), Seq('acaca'), Seq('cacag'), Seq('acagc'), Seq('cagca'), Seq('agcac'), Seq('gcaca'), Seq('cacag'), Seq('acagc'), Seq('cagct'), Seq('agctg'), Seq('gctgc'), Seq('ctgct'), Seq('tgctg'), Seq('gctgt'), Seq('ctgtg'), Seq('tgtga'), Seq('gtgac'), Seq('tgact'), Seq('gactg'), Seq('actga'), Seq('ctgat'), Seq('tgatc'), Seq('gatcg'), Seq('atcgt'), Seq('tcgtg'), Seq('cgtgg'), Seq('gtggc'), Seq('tggcc'), Seq('ggccg'), Seq('gccgg'), Seq('ccggg'), Seq('cgggc'), Seq('gggct'), Seq('ggctg'), Seq('gctgc'), Seq('ctgct'), Seq('tgctt'), Seq('gcttc'), Seq('cttct'), Seq('ttctt'), Seq('tcttt'), Seq('cttta'), Seq('tttaa'), Seq('ttaag'), Seq('taagt'), Seq('aagtg'), Seq('agtga'), Seq('gtgag'), Seq('tgaga'), Seq('gagac'), Seq('agacc'), Seq('gaccg'), Seq('accga'), Seq('ccgaa'), Seq('cgaaa'), Seq('gaaat'), Seq('aaatc'), Seq('aatcc'), Seq('atcca'), Seq('tccat'), Seq('ccatc'), Seq('catcc'), Seq('atccc'), Seq('tccct'), Seq('ccctc'), Seq('cctcc'), Seq('ctcct'), Seq('tcctc'), Seq('cctca'), Seq('ctcac'), Seq('tcacc'), Seq('caccg'), Seq('accgg'), Seq('ccgga'), Seq('cggac'), Seq('ggaca'), Seq('gacag'), Seq('acagg'), Seq('caggg'), Seq('agggc'), Seq('gggcc'), Seq('ggcct'), Seq('gcctc'), Seq('cctcc'), Seq('ctccc'), Seq('tcccc'), Seq('cccca'), Seq('cccat'), Seq('ccatc'), Seq('catcg'), Seq('atcgg'), Seq('tcgga'), Seq('cggaa'), Seq('ggaat'), Seq('gaatt'), Seq('aattt'), Seq('atttt'), Seq('tttta'), Seq('tttag'), Seq('ttagc'), Seq('tagca'), Seq('agcaa'), Seq('gcaac'), Seq('caact'), Seq('aactc'), Seq('actcc'), Seq('ctcca'), Seq('tccag'), Seq('ccagc'), Seq('cagcc'), Seq('agcca'), Seq('gccag'), Seq('ccaga'), Seq('cagag'), Seq('agagt'), Seq('gagtt'), Seq('agttc'), Seq('gttct'), Seq('ttcta'), Seq('tctat'), Seq('ctatg'), Seq('tatgg'), Seq('atgga'), Seq('tggac'), Seq('ggaca'), Seq('gacag'), Seq('acaga'), Seq('cagaa'), Seq('agaac'), Seq('gaact'), Seq('aactc'), Seq('actct'), Seq('ctctg'), Seq('tctga'), Seq('ctgat'), Seq('tgatt'), Seq('gattt'), Seq('atttc'), Seq('tttct'), Seq('ttctc'), Seq('tctcc'), Seq('ctccc'), Seq('tccct'), Seq('ccctg'), Seq('cctgg'), Seq('ctggg'), Seq('tggga'), Seq('gggat'), Seq('ggatg'), Seq('gatga'), Seq('atgaa'), Seq('tgaag'), Seq('gaagt'), Seq('aagtc'), Seq('agtcc'), Seq('gtccc'), Seq('tcccc'), Seq('cccca'), Seq('cccag'), Seq('ccagg'), Seq('caggg'), Seq('aggga'), Seq('gggag'), Seq('ggaga'), Seq('gagag'), Seq('agagg'), Seq('gaggg'), Seq('agggg'), Seq('ggggt'), Seq('gggta'), Seq('ggtag'), Seq('gtagc'), Seq('tagct'), Seq('agctg'), Seq('gctgc'), Seq('ctgct'), Seq('tgctg'), Seq('gctgt'), Seq('ctgtc'), Seq('tgtct'), Seq('gtctc'), Seq('tctcc'), Seq('ctccc'), Seq('tcccc'), Seq('cccca'), Seq('cccag'), Seq('ccagt'), Seq('cagtt'), Seq('agttc'), Seq('gttca'), Seq('ttcag'), Seq('tcagc'), Seq('cagcc'), Seq('agccg'), Seq('gccga'), Seq('ccgac'), Seq('cgact'), Seq('gactg'), Seq('actga'), Seq('ctgag'), Seq('tgagc'), Seq('gagcc'), Seq('agcct'), Seq('gcctt'), Seq('ccttt'), Seq('ctttc'), Seq('tttcc'), Seq('ttcca'), Seq('tccag'), Seq('ccagc'), Seq('cagcc'), Seq('agcct'), Seq('gcctg'), Seq('cctgc'), Seq('ctgct'), Seq('tgctg'), Seq('gctgg'), Seq('ctggc'), Seq('tggct'), Seq('ggctc'), Seq('gctct'), Seq('ctctg'), Seq('tctgg'), Seq('ctgga'), Seq('tggag'), Seq('ggaga'), Seq('gagac'), Seq('agact'), Seq('gactc'), Seq('actcc'), Seq('ctcct'), Seq('tcctg'), Seq('cctgg'), Seq('ctggg'), Seq('tggga'), Seq('gggag'), Seq('ggagt'), Seq('gagtc'), Seq('agtca'), Seq('gtcac'), Seq('tcacc'), Seq('cacca'), Seq('accac'), Seq('ccaca'), Seq('cacag'), Seq('acagc'), Seq('cagca'), Seq('agcac'), Seq('gcaca'), Seq('cacac'), Seq('acacc'), Seq('cacct'), Seq('acctg'), Seq('cctgc'), Seq('ctgct'), Seq('tgctc'), Seq('gctct'), Seq('ctctg'), Seq('tctgc'), Seq('ctgcc'), Seq('tgccg'), Seq('gccga'), Seq('ccgaa'), Seq('cgaag'), Seq('gaagg'), Seq('aaggg'), Seq('agggc'), Seq('gggca'), Seq('ggcag'), Seq('gcagc'), Seq('cagcc'), Seq('agcca'), Seq('gccag'), Seq('ccaga'), Seq('cagac'), Seq('agact'), Seq('gactg'), Seq('actgc'), Seq('ctgct'), Seq('tgctt'), Seq('gcttc'), Seq('cttct'), Seq('ttctt'), Seq('tcttt'), Seq('cttta'), Seq('tttaa'), Seq('ttaag'), Seq('taagc'), Seq('aagca'), Seq('agcag'), Seq('gcagt'), Seq('cagtc'), Seq('agtcc'), Seq('gtccc'), Seq('tccct'), Seq('ccctg'), Seq('cctga'), Seq('ctgat'), Seq('tgatc'), Seq('gatcc'), Seq('atcct'), Seq('tcctg'), Seq('cctgt'), Seq('ctgtt'), Seq('tgttt'), Seq('gtttc'), Seq('tttct'), Seq('ttctc'), Seq('tctcc'), Seq('ctcct'), Seq('tcctg'), Seq('cctga'), Seq('ctgac'), Seq('tgact'), Seq('gactg'), Seq('actgg'), Seq('ctgga'), Seq('tggac'), Seq('ggaca'), Seq('gacaa'), Seq('acaag'), Seq('caaga'), Seq('aagac'), Seq('agacc'), Seq('gacct'), Seq('acctc'), Seq('cctcc'), Seq('ctccc'), Seq('tccca'), Seq('cccaa'), Seq('ccaac'), Seq('caaca'), Seq('aacag'), Seq('acagg'), Seq('caggg'), Seq('agggg'), Seq('ggggt'), Seq('gggtc'), Seq('ggtct'), Seq('gtctc'), Seq('tctcc'), Seq('ctcca'), Seq('tccag'), Seq('ccaga'), Seq('cagac'), Seq('agaca'), Seq('gacac'), Seq('acacc'), Seq('cacct'), Seq('acctc'), Seq('cctcc'), Seq('ctcct'), Seq('tccta'), Seq('cctac'), Seq('ctaca'), Seq('tacag'), Seq('acagg'), Seq('cagga'), Seq('aggag'), Seq('ggagc'), Seq('gagcg'), Seq('agcgt'), Seq('gcgtt'), Seq('cgttc'), Seq('gttcc'), Seq('ttcca'), Seq('tccag'), Seq('ccagc'), Seq('cagct'), Seq('agctg'), Seq('gctgg'), Seq('ctggc'), Seq('tggca'), Seq('ggcat'), Seq('gcatc'), Seq('catca'), Seq('atcaa'), Seq('tcaag'), Seq('caagt'), Seq('aagtc'), Seq('agtcg'), Seq('gtcgg'), Seq('tcggt'), Seq('cggta'), Seq('ggtac'), Seq('gtacc'), Seq('tacct'), Seq('acctc'), Seq('cctcc'), Seq('ctcct'), Seq('tcctt'), Seq('ccttg'), Seq('cttgg'), Seq('ttgga'), Seq('tggac'), Seq('ggact'), Seq('gactg'), Seq('actgg'), Seq('ctggt'), Seq('tggtg'), Seq('ggtgc'), Seq('gtgct'), Seq('tgctc'), Seq('gctcc'), Seq('ctccc'), Seq('tccca'), Seq('cccag'), Seq('ccaga'), Seq('cagag'), Seq('agagg'), Seq('gagga'), Seq('aggaa'), Seq('ggaag'), Seq('gaagg'), Seq('aagga'), Seq('aggaa'), Seq('ggaac'), Seq('gaaca'), Seq('aacag'), Seq('acagg'), Seq('caggc'), Seq('aggcc'), Seq('ggccg'), Seq('gccgc'), Seq('ccgcc'), Seq('cgcca'), Seq('gccat'), Seq('ccatc'), Seq('catct'), Seq('atctt'), Seq('tcttt'), Seq('ctttg'), Seq('tttgc'), Seq('ttgct'), Seq('tgctg'), Seq('gctgt'), Seq('ctgtt'), Seq('tgttt'), Seq('gtttc'), Seq('tttcg'), Seq('ttcgc'), Seq('tcgca'), Seq('cgcag'), Seq('gcagc'), Seq('cagcc'), Seq('agcct'), Seq('gcctt'), Seq('ccttc'), Seq('cttca'), Seq('ttcac'), Seq('tcact'), Seq('cactg'), Seq('actgg'), Seq('ctggt'), Seq('tggtg'), Seq('ggtga'), Seq('gtgat'), Seq('tgata'), Seq('gatac'), Seq('atacc'), Seq('tacct'), Seq('acctc'), Seq('cctcc'), Seq('ctcca'), Seq('tccag'), Seq('ccagg'), Seq('caggt'), Seq('aggtg'), Seq('ggtgc'), Seq('gtgca'), Seq('tgcaa'), Seq('gcaag'), Seq('caagn'), Seq('aagnn'), Seq('agnnn'), Seq('gnnnn'), Seq('nnnnn'), Seq('nnnnn'), Seq('nnnnn'), Seq('nnnnn'), Seq('nnnnn'), Seq('nnnnn'), Seq('nnnnn'), Seq('nnnnn'), Seq('nnnnn'), Seq('nnnnn'), Seq('nnnnn'), Seq('nnnnn'), Seq('nnnnn'), Seq('nnnnn'), Seq('nnnnn'), Seq('nnnnn'), Seq('nnnnn'), Seq('nnnnn'), Seq('nnnnn'), Seq('nnnnn'), Seq('nnnnn'), Seq('nnnnn'), Seq('nnnnn'), Seq('nnnnn'), Seq('nnnnn'), Seq('nnnnn'), Seq('nnnnn'), Seq('nnnnn'), Seq('nnnnn'), Seq('nnnnn'), Seq('nnnnn'), Seq('nnnnn'), Seq('nnnnn'), Seq('nnnnn'), Seq('nnnnn'), Seq('nnnnn'), Seq('nnnnn'), Seq('nnnnn'), Seq('nnnnn'), Seq('nnnnn'), Seq('nnnnn'), Seq('nnnnn'), Seq('nnnnn'), Seq('nnnnn'), Seq('nnnnn'), Seq('nnnnn'), Seq('nnnnn'), Seq('nnnnn'), Seq('nnnnn'), Seq('nnnnn'), Seq('nnnnn'), Seq('nnnnn'), Seq('nnnnn'), Seq('nnnnn'), Seq('nnnnn'), Seq('nnnnn'), Seq('nnnnn'), Seq('nnnnn'), Seq('nnnnn'), Seq('nnnnn'), Seq('nnnnn'), Seq('nnnnn'), Seq('nnnnn'), Seq('nnnnn'), Seq('nnnnn'), Seq('nnnnn'), Seq('nnnnn'), Seq('nnnnn'), Seq('nnnnn'), Seq('nnnnn'), Seq('nnnnn'), Seq('nnnnn'), Seq('nnnnn'), Seq('nnnnn'), Seq('nnnnn'), Seq('nnnnn'), Seq('nnnnn'), Seq('nnnnn'), Seq('nnnnn'), Seq('nnnnn'), Seq('nnnnn'), Seq('nnnnn'), Seq('nnnnn'), Seq('nnnnn'), Seq('nnnnn'), Seq('nnnnn'), Seq('nnnnn'), Seq('nnnnn'), Seq('nnnnn'), Seq('nnnnn'), Seq('nnnnn'), Seq('nnnnn'), Seq('nnnnn'), Seq('nnnnn'), Seq('nnnnn'), Seq('nnnnn'), Seq('nnnnn'), Seq('nnnnn'), Seq('nnnnn'), Seq('nnnnn'), Seq('nnnnn'), Seq('nnnnn'), Seq('nnnnn'), Seq('nnnnn'), Seq('nnnnn'), Seq('nnnnn'), Seq('nnnnn'), Seq('nnnnn'), Seq('nnnnn'), Seq('nnnnn'), Seq('nnnnn'), Seq('nnnnn'), Seq('nnnnn'), Seq('nnnnn'), Seq('nnnnn'), Seq('nnnnn'), Seq('nnnnn'), Seq('nnnnn'), Seq('nnnnn'), Seq('nnnnn'), Seq('nnnnn'), Seq('nnnnn'), Seq('nnnnn'), Seq('nnnnn'), Seq('nnnnn'), Seq('nnnnn'), Seq('nnnnn'), Seq('nnnnn'), Seq('nnnnn'), Seq('nnnnn'), Seq('nnnnn'), Seq('nnnnn'), Seq('nnnnn'), Seq('nnnnn'), Seq('nnnnn'), Seq('nnnnn'), Seq('nnnnn'), Seq('nnnnn'), Seq('nnnnn'), Seq('nnnnn'), Seq('nnnnn'), Seq('nnnnn'), Seq('nnnnn'), Seq('nnnnn'), Seq('nnnnn'), Seq('nnnnn'), Seq('nnnnn'), Seq('nnnnn'), Seq('nnnnn'), Seq('nnnnn'), Seq('nnnnn'), Seq('nnnnn'), Seq('nnnnn'), Seq('nnnnn'), Seq('nnnnn'), Seq('nnnnn'), Seq('nnnnn'), Seq('nnnnn'), Seq('nnnnn'), Seq('nnnnn'), Seq('nnnnn'), Seq('nnnnn'), Seq('nnnnn'), Seq('nnnnn'), Seq('nnnnn'), Seq('nnnnn'), Seq('nnnnn'), Seq('nnnnn'), Seq('nnnnn'), Seq('nnnnn'), Seq('nnnnn'), Seq('nnnnn'), Seq('nnnnn'), Seq('nnnnn'), Seq('nnnnn'), Seq('nnnnn'), Seq('nnnnn'), Seq('nnnnn'), Seq('nnnnn'), Seq('nnnnn'), Seq('nnnnn'), Seq('nnnnn'), Seq('nnnnn'), Seq('nnnnn'), Seq('nnnnn'), Seq('nnnnn'), Seq('nnnnn'), Seq('nnnnn'), Seq('nnnnn'), Seq('nnnnn'), Seq('nnnnn'), Seq('nnnnn'), Seq('nnnnn'), Seq('nnnnn'), Seq('nnnnn'), Seq('nnnnn'), Seq('nnnnn'), Seq('nnnnn'), Seq('nnnnn'), Seq('nnnnn'), Seq('nnnnn'), Seq('nnnnn'), Seq('nnnnn'), Seq('nnnnn'), Seq('nnnnn'), Seq('nnnnn'), Seq('nnnnn'), Seq('nnnnn'), Seq('nnnnn'), Seq('nnnnn'), Seq('nnnnn'), Seq('nnnnn'), Seq('nnnnn'), Seq('nnnnn'), Seq('nnnnn'), Seq('nnnnn'), Seq('nnnnn'), Seq('nnnnn'), Seq('nnnnn'), Seq('nnnnn'), Seq('nnnnn'), Seq('nnnnn'), Seq('nnnnn'), Seq('nnnnn'), Seq('nnnnn'), Seq('nnnnn'), Seq('nnnnn'), Seq('nnnnn'), Seq('nnnnn'), Seq('nnnnn'), Seq('nnnnn'), Seq('nnnnn'), Seq('nnnnn'), Seq('nnnnn'), Seq('nnnnn'), Seq('nnnnn'), Seq('nnnnn'), Seq('nnnnn'), Seq('nnnnn'), Seq('nnnnn'), Seq('nnnnn'), Seq('nnnnn'), Seq('nnnnn'), Seq('nnnnn'), Seq('nnnnn'), Seq('nnnnn'), Seq('nnnnn'), Seq('nnnnn'), Seq('nnnnn'), Seq('nnnnn'), Seq('nnnnn'), Seq('nnnnn'), Seq('nnnnn'), Seq('nnnnn'), Seq('nnnnn'), Seq('nnnnn'), Seq('nnnnn'), Seq('nnnnn'), Seq('nnnnn'), Seq('nnnnn'), Seq('nnnnn'), Seq('nnnnn'), Seq('nnnnn'), Seq('nnnnn'), Seq('nnnnn'), Seq('nnnnn'), Seq('nnnnn'), Seq('nnnnn'), Seq('nnnnn'), Seq('nnnnn'), Seq('nnnnn'), Seq('nnnnn'), Seq('nnnnn'), Seq('nnnnn'), Seq('nnnnn'), Seq('nnnnn'), Seq('nnnnn'), Seq('nnnnn'), Seq('nnnnn'), Seq('nnnnn'), Seq('nnnnn'), Seq('nnnnn'), Seq('nnnnn'), Seq('nnnnn'), Seq('nnnnn'), Seq('nnnnn'), Seq('nnnnn'), Seq('nnnnn'), Seq('nnnnn'), Seq('nnnnn'), Seq('nnnnn'), Seq('nnnnn'), Seq('nnnnn'), Seq('nnnnn'), Seq('nnnnn'), Seq('nnnnn'), Seq('nnnnn'), Seq('nnnnn'), Seq('nnnnn'), Seq('nnnnn'), Seq('nnnnn'), Seq('nnnnn'), Seq('nnnnn'), Seq('nnnnn'), Seq('nnnnn'), Seq('nnnnn'), Seq('nnnnn'), Seq('nnnnn'), Seq('nnnnn'), Seq('nnnnn'), Seq('nnnnn'), Seq('nnnnn'), Seq('nnnnn'), Seq('nnnnn'), Seq('nnnnn'), Seq('nnnnn'), Seq('nnnnn'), Seq('nnnnn'), Seq('nnnnn'), Seq('nnnnn'), Seq('nnnnn'), Seq('nnnnn'), Seq('nnnnn'), Seq('nnnnn'), Seq('nnnnn'), Seq('nnnnn'), Seq('nnnnn'), Seq('nnnnn'), Seq('nnnnn'), Seq('nnnnn'), Seq('nnnnn'), Seq('nnnnn'), Seq('nnnnn'), Seq('nnnnn'), Seq('nnnnn'), Seq('nnnnn'), Seq('nnnnn'), Seq('nnnnn'), Seq('nnnnn'), Seq('nnnnn'), Seq('nnnnn'), Seq('nnnnn'), Seq('nnnnn'), Seq('nnnnn'), Seq('nnnnn'), Seq('nnnnn'), Seq('nnnnn'), Seq('nnnnn'), Seq('nnnnn'), Seq('nnnnn'), Seq('nnnnn'), Seq('nnnnn'), Seq('nnnnn'), Seq('nnnnn'), Seq('nnnnn'), Seq('nnnnn'), Seq('nnnnn'), Seq('nnnnn'), Seq('nnnnn'), Seq('nnnnn'), Seq('nnnnn'), Seq('nnnnn'), Seq('nnnnn'), Seq('nnnnn'), Seq('nnnnn'), Seq('nnnnn'), Seq('nnnnn'), Seq('nnnnn'), Seq('nnnnn'), Seq('nnnnn'), Seq('nnnnn'), Seq('nnnnn'), Seq('nnnnn'), Seq('nnnnn'), Seq('nnnnn'), Seq('nnnnn'), Seq('nnnnn'), Seq('nnnnn'), Seq('nnnnn'), Seq('nnnnn'), Seq('nnnnn'), Seq('nnnnn'), Seq('nnnnn'), Seq('nnnnn'), Seq('nnnnn'), Seq('nnnnn'), Seq('nnnnn'), Seq('nnnnn'), Seq('nnnnn'), Seq('nnnnn'), Seq('nnnnn'), Seq('nnnnn'), Seq('nnnnn'), Seq('nnnnn'), Seq('nnnnn'), Seq('nnnnn'), Seq('nnnnn'), Seq('nnnnn'), Seq('nnnnn'), Seq('nnnnn'), Seq('nnnnn'), Seq('nnnnn'), Seq('nnnnn'), Seq('nnnnn'), Seq('nnnnn'), Seq('nnnnn'), Seq('nnnnn'), Seq('nnnnn'), Seq('nnnnn'), Seq('nnnnn'), Seq('nnnnn'), Seq('nnnnn'), Seq('nnnnn'), Seq('nnnnn'), Seq('nnnnn'), Seq('nnnnn'), Seq('nnnnn'), Seq('nnnnn'), Seq('nnnnn'), Seq('nnnnn'), Seq('nnnnn'), Seq('nnnnn'), Seq('nnnnn'), Seq('nnnnn'), Seq('nnnnn'), Seq('nnnnn'), Seq('nnnnn'), Seq('nnnnn'), Seq('nnnnn'), Seq('nnnnn'), Seq('nnnnn'), Seq('nnnnn'), Seq('nnnnn'), Seq('nnnnn'), Seq('nnnnn'), Seq('nnnnn'), Seq('nnnnn'), Seq('nnnnn'), Seq('nnnnn'), Seq('nnnnn'), Seq('nnnnn'), Seq('nnnnn'), Seq('nnnnn'), Seq('nnnnn'), Seq('nnnnn'), Seq('nnnnn'), Seq('nnnnn'), Seq('nnnnn'), Seq('nnnnn'), Seq('nnnnn'), Seq('nnnnn'), Seq('nnnnn'), Seq('nnnnn'), Seq('nnnnn'), Seq('nnnnn'), Seq('nnnnn'), Seq('nnnnn'), Seq('nnnnn'), Seq('nnnnn'), Seq('nnnnn'), Seq('nnnnn'), Seq('nnnnn'), Seq('nnnnn'), Seq('nnnnn'), Seq('nnnnn'), Seq('nnnnn'), Seq('nnnnn'), Seq('nnnnn'), Seq('nnnnn'), Seq('nnnnn'), Seq('nnnnn'), Seq('nnnnn'), Seq('nnnnn'), Seq('nnnnn'), Seq('nnnnn'), Seq('nnnnn'), Seq('nnnnn'), Seq('nnnnn'), Seq('nnnnn'), Seq('nnnnn'), Seq('nnnnn'), Seq('nnnnn'), Seq('nnnnn'), Seq('nnnnn'), Seq('nnnnn'), Seq('nnnnn'), Seq('nnnnn'), Seq('nnnnn'), Seq('nnnnn'), Seq('nnnnn'), Seq('nnnnn'), Seq('nnnnn'), Seq('nnnnn'), Seq('nnnnn'), Seq('nnnnn'), Seq('nnnnn'), Seq('nnnnn'), Seq('nnnnn'), Seq('nnnnn'), Seq('nnnnn'), Seq('nnnnn'), Seq('nnnnn'), Seq('nnnnn'), Seq('nnnnn'), Seq('nnnnn'), Seq('nnnnn'), Seq('nnnnn'), Seq('nnnnn'), Seq('nnnnn'), Seq('nnnnn'), Seq('nnnnn'), Seq('nnnnn'), Seq('nnnnn'), Seq('nnnnn'), Seq('nnnnn'), Seq('nnnnn'), Seq('nnnnn'), Seq('nnnnn'), Seq('nnnnn'), Seq('nnnnn'), Seq('nnnnn'), Seq('nnnnn'), Seq('nnnnn'), Seq('nnnnn'), Seq('nnnnn'), Seq('nnnnn'), Seq('nnnnn'), Seq('nnnnn'), Seq('nnnnn'), Seq('nnnnn'), Seq('nnnnn'), Seq('nnnnn'), Seq('nnnnn'), Seq('nnnnn'), Seq('nnnnn'), Seq('nnnnn'), Seq('nnnnn'), Seq('nnnnn'), Seq('nnnnn'), Seq('nnnnn'), Seq('nnnnn'), Seq('nnnnn'), Seq('nnnnn'), Seq('nnnnn'), Seq('nnnnn'), Seq('nnnnn'), Seq('nnnnn'), Seq('nnnnn'), Seq('nnnnn'), Seq('nnnnn'), Seq('nnnnn'), Seq('nnnnn'), Seq('nnnnn'), Seq('nnnnn'), Seq('nnnnn'), Seq('nnnnn'), Seq('nnnnn'), Seq('nnnnn'), Seq('nnnnn'), Seq('nnnnn'), Seq('nnnnn'), Seq('nnnnn'), Seq('nnnnn'), Seq('nnnnn'), Seq('nnnnn'), Seq('nnnnn'), Seq('nnnnn'), Seq('nnnnn'), Seq('nnnnn'), Seq('nnnnn'), Seq('nnnnn'), Seq('nnnnn'), Seq('nnnnn'), Seq('nnnnn'), Seq('nnnnn'), Seq('nnnnn'), Seq('nnnnn'), Seq('nnnnn'), Seq('nnnnn'), Seq('nnnnn'), Seq('nnnnn'), Seq('nnnnn'), Seq('nnnnn'), Seq('nnnnn'), Seq('nnnnn'), Seq('nnnnn'), Seq('nnnnn'), Seq('nnnnn'), Seq('nnnnn'), Seq('nnnnn'), Seq('nnnnn'), Seq('nnnnn'), Seq('nnnnn'), Seq('nnnnn'), Seq('nnnnn'), Seq('nnnnn'), Seq('nnnnn'), Seq('nnnnn'), Seq('nnnnn'), Seq('nnnnn'), Seq('nnnnn'), Seq('nnnnn'), Seq('nnnnn'), Seq('nnnnn'), Seq('nnnnn'), Seq('nnnnn'), Seq('nnnnn'), Seq('nnnnn'), Seq('nnnnn'), Seq('nnnnn'), Seq('nnnnn'), Seq('nnnnn'), Seq('nnnnn'), Seq('nnnnn'), Seq('nnnnn'), Seq('nnnnn'), Seq('nnnnn'), Seq('nnnnn'), Seq('nnnnn'), Seq('nnnnn'), Seq('nnnnn'), Seq('nnnnn'), Seq('nnnnn'), Seq('nnnnn'), Seq('nnnnn'), Seq('nnnnn'), Seq('nnnnn'), Seq('nnnnn'), Seq('nnnnn'), Seq('nnnnn'), Seq('nnnnn'), Seq('nnnnn'), Seq('nnnnn'), Seq('nnnnn'), Seq('nnnnn'), Seq('nnnnn')]\n",
            "1023\n"
          ]
        }
      ]
    },
    {
      "cell_type": "code",
      "metadata": {
        "id": "D2nfXqgsp_15"
      },
      "source": [
        "hotspots_vector = np.zeros((n_seqs*(4**k + npolys))).reshape(n_seqs, (4**k + npolys))\n",
        "nohotspots_vector = np.zeros((n_seqs*(4**k + npolys))).reshape(n_seqs, (4**k + npolys))\n",
        "\n",
        "for i, seq_record in enumerate(hotspots):\n",
        "    for kmer in getKmers(seq_record.seq, size=k):\n",
        "        hashv = compute_hash(kmer)\n",
        "        if(hashv > -1): hotspots_vector[i, hashv] = hotspots_vector[i, hashv] + 1\n",
        "    hotspots_vector[i, nmers:] = compute_polys(str(seq_record.seq))\n",
        "\n",
        "for i, seq_record in enumerate(nohotspots):\n",
        "    for kmer in getKmers(seq_record.seq, size=k):\n",
        "        hashv = compute_hash(kmer)\n",
        "        if(hashv > -1): nohotspots_vector[i, hashv] = nohotspots_vector[i, hashv] + 1\n",
        "    nohotspots_vector[i, nmers:] = compute_polys(str(seq_record.seq))"
      ],
      "execution_count": 19,
      "outputs": []
    },
    {
      "cell_type": "code",
      "metadata": {
        "id": "JmZvVCUDuv8s"
      },
      "source": [
        "labels_hotspots = np.zeros(len(hotspots_vector))\n",
        "labels_nohotspots = np.ones(len(nohotspots_vector))"
      ],
      "execution_count": 20,
      "outputs": []
    },
    {
      "cell_type": "code",
      "metadata": {
        "id": "Vg5slRq5ukeX",
        "colab": {
          "base_uri": "https://localhost:8080/"
        },
        "outputId": "37dd8c3c-c141-4735-e2d5-0567b0db0a5d"
      },
      "source": [
        "scaler = MinMaxScaler()\n",
        "merged_dataset = np.concatenate([hotspots_vector, nohotspots_vector])\n",
        "hotspots = scaler.fit_transform(merged_dataset)\n",
        "labels = np.concatenate([labels_hotspots, labels_nohotspots])\n",
        "\n",
        "print(len(hotspots))\n",
        "print(len(hotspots[0]))"
      ],
      "execution_count": 21,
      "outputs": [
        {
          "output_type": "stream",
          "name": "stdout",
          "text": [
            "77168\n",
            "94\n"
          ]
        }
      ]
    },
    {
      "cell_type": "code",
      "metadata": {
        "id": "XiMKfNc6qDkG"
      },
      "source": [
        "np.save(root_dir + \"Data/hotspots/fasta/hotspots-3k-1polys\",hotspots)\n",
        "np.save(root_dir + \"Data/hotspots/fasta/labels_hotspots-3k-1polys\",labels)"
      ],
      "execution_count": 22,
      "outputs": []
    }
  ]
}