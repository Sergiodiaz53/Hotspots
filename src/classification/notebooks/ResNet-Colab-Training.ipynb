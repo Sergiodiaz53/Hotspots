{
  "cells": [
    {
      "cell_type": "markdown",
      "metadata": {
        "id": "EVtwaS9H7c2a"
      },
      "source": [
        "# Imports"
      ]
    },
    {
      "cell_type": "code",
      "execution_count": 25,
      "metadata": {
        "id": "Rn6EXhwf7fXO"
      },
      "outputs": [],
      "source": [
        "#Packages\n",
        "import numpy as np\n",
        "import pandas as pd\n",
        "import seaborn as sns\n",
        "import tensorflow as tf\n",
        "import matplotlib.pyplot as plt\n",
        "\n",
        "from tensorflow import keras\n",
        "from statistics import mean\n",
        "from google.colab import drive\n",
        "\n",
        "from keras import Model\n",
        "from keras.layers import Input, Dense, Activation, Dropout, BatchNormalization, Add\n",
        "from keras.callbacks import ReduceLROnPlateau, EarlyStopping, ModelCheckpoint\n",
        "from sklearn.utils import shuffle\n",
        "\n",
        "from sklearn.metrics import accuracy_score\n",
        "from sklearn.metrics import classification_report\n",
        "from sklearn.metrics import roc_curve\n",
        "from sklearn.metrics import auc\n",
        "from sklearn.metrics import precision_recall_curve, average_precision_score"
      ]
    },
    {
      "cell_type": "markdown",
      "metadata": {
        "id": "tIxT4WHG7gYc"
      },
      "source": [
        "# Data loading"
      ]
    },
    {
      "cell_type": "markdown",
      "metadata": {
        "id": "_mfKWfl57no5"
      },
      "source": [
        "## Mount Drive"
      ]
    },
    {
      "cell_type": "code",
      "execution_count": 26,
      "metadata": {
        "colab": {
          "base_uri": "https://localhost:8080/"
        },
        "id": "FPwcsc_R7jmv",
        "outputId": "917a84f5-5e0b-4c32-fa88-e2db87733f2a"
      },
      "outputs": [
        {
          "name": "stdout",
          "output_type": "stream",
          "text": [
            "Mounted at /content/drive\n"
          ]
        }
      ],
      "source": [
        "drive.mount('/content/drive', force_remount=True)\n",
        "root_dir = \"/content/drive/My Drive/\""
      ]
    },
    {
      "cell_type": "markdown",
      "metadata": {
        "id": "8d8t-SV37tIM"
      },
      "source": [
        "## Load Dataset "
      ]
    },
    {
      "cell_type": "code",
      "execution_count": 27,
      "metadata": {
        "id": "79beGvjL7vgW"
      },
      "outputs": [],
      "source": [
        "# Load frequency Vectors\n",
        "fv_train = np.load(root_dir+\"Data/hotspots/final/fv_train-5k-list-500chunk_with_reversed.npy\")\n",
        "fv_test = np.load(root_dir+\"Data/hotspots/final/fv_test-5k-list-500chunk_with_reversed.npy\")\n",
        "\n",
        "# Load labels\n",
        "y_train = np.load(root_dir+\"Data/hotspots/final/y_train-3k-list-500chunk_with_reversed.npy\")\n",
        "y_test = np.load(root_dir+\"Data/hotspots/final/y_test-3k-list-500chunk_with_reversed.npy\")"
      ]
    },
    {
      "cell_type": "markdown",
      "metadata": {
        "id": "dMZE60XO84IN"
      },
      "source": [
        "# Neural Network"
      ]
    },
    {
      "cell_type": "markdown",
      "metadata": {
        "id": "sBb7dnFF86Mt"
      },
      "source": [
        "## Hyperparameters"
      ]
    },
    {
      "cell_type": "code",
      "execution_count": 31,
      "metadata": {
        "id": "prhXwiAq87nl"
      },
      "outputs": [],
      "source": [
        "EPOCHS = 2000\n",
        "LEARNING_RATE = 0.001\n",
        "BATCH_SIZE = 128\n",
        "DROPOUT_RATE = 0.25\n",
        "RESIDUAL_ACTIVATION_TYPE = 'relu'\n",
        "\n",
        "freq_vector_size = len(fv_train[0])\n",
        "\n",
        "reduce_lr  = ReduceLROnPlateau(monitor='val_loss', factor=0.7, patience=200, min_delta=0.01, cooldown=100, min_lr=0.0001)\n",
        "early_stopping = EarlyStopping(monitor='val_loss', mode='min', verbose=1, patience=300, restore_best_weights=True)\n",
        "model_checkpoint = ModelCheckpoint(filepath=root_dir+\"checkpoint\", save_weights_only=True, monitor='val_accuracy', mode='max', save_best_only=True, verbose=0)"
      ]
    },
    {
      "cell_type": "markdown",
      "metadata": {
        "id": "lXGtXB169A8g"
      },
      "source": [
        "## Model Definition"
      ]
    },
    {
      "cell_type": "code",
      "execution_count": 32,
      "metadata": {
        "id": "AuX9nE3w9CyV"
      },
      "outputs": [],
      "source": [
        "def createOptimizer(model, learning_rate):\n",
        "\n",
        "  optimizer = keras.optimizers.SGD(learning_rate=learning_rate)\n",
        "  model.compile(loss=\"binary_crossentropy\", optimizer=optimizer, metrics = ['accuracy'])\n",
        "\n",
        "  return model\n",
        "\n",
        "def create_model():\n",
        "  initializer = keras.initializers.GlorotNormal()\n",
        "\n",
        "  res_input = Input(shape=(freq_vector_size))\n",
        "  res_part = Dropout(DROPOUT_RATE)(res_input)\n",
        "\n",
        "  for i in range(0, 1):\n",
        "\n",
        "      def regression_identity_block(res_part, activation):\n",
        "          res_shortcut = res_part\n",
        "\n",
        "          ri_block = Dense(units = 32 , kernel_initializer=initializer, use_bias=True, bias_initializer='zeros')(res_part)\n",
        "          #ri_block  = BatchNormalization()(ri_block)\n",
        "          ri_block = Activation(activation=activation)(ri_block)\n",
        "\n",
        "          ri_block = Dense(units = 16, kernel_initializer=initializer, use_bias=True, bias_initializer='zeros')(ri_block)\n",
        "          #ri_block  = BatchNormalization()(ri_block)\n",
        "          ri_block = Activation(activation=activation)(ri_block)\n",
        "\n",
        "          ri_block = Dense(8, kernel_initializer=initializer, use_bias=True, bias_initializer='zeros')(ri_block)\n",
        "\n",
        "          ri_jump   = Dense(8, kernel_initializer=initializer, use_bias=True, bias_initializer='zeros')(res_shortcut)\n",
        "\n",
        "          ri_block = Add()([ri_block, ri_jump])\n",
        "          #ri_block  = BatchNormalization()(ri_block)\n",
        "          ri_block = Activation(activation=activation)(ri_block)\n",
        "          return ri_block\n",
        "\n",
        "      res_part = regression_identity_block(res_part, RESIDUAL_ACTIVATION_TYPE)\n",
        "\n",
        "  output = Dense(1, activation='sigmoid')(res_part)\n",
        "\n",
        "  model = Model(inputs=res_input, outputs=output)\n",
        "  model = createOptimizer(model, LEARNING_RATE)\n",
        "\n",
        "  return model\n"
      ]
    },
    {
      "cell_type": "markdown",
      "metadata": {
        "id": "yFH8bqeT9wwF"
      },
      "source": [
        "## Training"
      ]
    },
    {
      "cell_type": "code",
      "execution_count": null,
      "metadata": {
        "colab": {
          "base_uri": "https://localhost:8080/"
        },
        "id": "uxk30BMY9y6u",
        "outputId": "ee576f41-403d-457c-f82c-02f6e5ee73d4"
      },
      "outputs": [
        {
          "name": "stdout",
          "output_type": "stream",
          "text": [
            "Epoch 1/2000\n",
            "965/965 - 4s - loss: 0.6956 - accuracy: 0.5029 - val_loss: 0.6943 - val_accuracy: 0.5095\n",
            "\n",
            "Epoch 00001: val_accuracy improved from -inf to 0.50952, saving model to /content/drive/My Drive/checkpoint\n",
            "Epoch 2/2000\n",
            "965/965 - 3s - loss: 0.6944 - accuracy: 0.5075 - val_loss: 0.6934 - val_accuracy: 0.5187\n",
            "\n",
            "Epoch 00002: val_accuracy improved from 0.50952 to 0.51869, saving model to /content/drive/My Drive/checkpoint\n",
            "Epoch 3/2000\n",
            "965/965 - 3s - loss: 0.6937 - accuracy: 0.5121 - val_loss: 0.6928 - val_accuracy: 0.5239\n",
            "\n",
            "Epoch 00003: val_accuracy improved from 0.51869 to 0.52394, saving model to /content/drive/My Drive/checkpoint\n",
            "Epoch 4/2000\n",
            "965/965 - 3s - loss: 0.6931 - accuracy: 0.5156 - val_loss: 0.6923 - val_accuracy: 0.5308\n",
            "\n",
            "Epoch 00004: val_accuracy improved from 0.52394 to 0.53084, saving model to /content/drive/My Drive/checkpoint\n",
            "Epoch 5/2000\n",
            "965/965 - 3s - loss: 0.6927 - accuracy: 0.5197 - val_loss: 0.6919 - val_accuracy: 0.5376\n",
            "\n",
            "Epoch 00005: val_accuracy improved from 0.53084 to 0.53758, saving model to /content/drive/My Drive/checkpoint\n",
            "Epoch 6/2000\n",
            "965/965 - 3s - loss: 0.6923 - accuracy: 0.5248 - val_loss: 0.6914 - val_accuracy: 0.5444\n",
            "\n",
            "Epoch 00006: val_accuracy improved from 0.53758 to 0.54438, saving model to /content/drive/My Drive/checkpoint\n",
            "Epoch 7/2000\n",
            "965/965 - 3s - loss: 0.6919 - accuracy: 0.5278 - val_loss: 0.6910 - val_accuracy: 0.5490\n",
            "\n",
            "Epoch 00007: val_accuracy improved from 0.54438 to 0.54898, saving model to /content/drive/My Drive/checkpoint\n",
            "Epoch 8/2000\n",
            "965/965 - 3s - loss: 0.6914 - accuracy: 0.5338 - val_loss: 0.6906 - val_accuracy: 0.5532\n",
            "\n",
            "Epoch 00008: val_accuracy improved from 0.54898 to 0.55323, saving model to /content/drive/My Drive/checkpoint\n",
            "Epoch 9/2000\n",
            "965/965 - 3s - loss: 0.6911 - accuracy: 0.5392 - val_loss: 0.6902 - val_accuracy: 0.5561\n",
            "\n",
            "Epoch 00009: val_accuracy improved from 0.55323 to 0.55614, saving model to /content/drive/My Drive/checkpoint\n",
            "Epoch 10/2000\n",
            "965/965 - 3s - loss: 0.6906 - accuracy: 0.5431 - val_loss: 0.6898 - val_accuracy: 0.5594\n",
            "\n",
            "Epoch 00010: val_accuracy improved from 0.55614 to 0.55945, saving model to /content/drive/My Drive/checkpoint\n",
            "Epoch 11/2000\n",
            "965/965 - 3s - loss: 0.6902 - accuracy: 0.5464 - val_loss: 0.6894 - val_accuracy: 0.5611\n",
            "\n",
            "Epoch 00011: val_accuracy improved from 0.55945 to 0.56113, saving model to /content/drive/My Drive/checkpoint\n",
            "Epoch 12/2000\n",
            "965/965 - 3s - loss: 0.6898 - accuracy: 0.5485 - val_loss: 0.6889 - val_accuracy: 0.5636\n",
            "\n",
            "Epoch 00012: val_accuracy improved from 0.56113 to 0.56356, saving model to /content/drive/My Drive/checkpoint\n",
            "Epoch 13/2000\n",
            "965/965 - 3s - loss: 0.6893 - accuracy: 0.5527 - val_loss: 0.6885 - val_accuracy: 0.5683\n",
            "\n",
            "Epoch 00013: val_accuracy improved from 0.56356 to 0.56832, saving model to /content/drive/My Drive/checkpoint\n",
            "Epoch 14/2000\n",
            "965/965 - 3s - loss: 0.6889 - accuracy: 0.5555 - val_loss: 0.6879 - val_accuracy: 0.5709\n",
            "\n",
            "Epoch 00014: val_accuracy improved from 0.56832 to 0.57095, saving model to /content/drive/My Drive/checkpoint\n",
            "Epoch 15/2000\n",
            "965/965 - 3s - loss: 0.6883 - accuracy: 0.5574 - val_loss: 0.6874 - val_accuracy: 0.5724\n",
            "\n",
            "Epoch 00015: val_accuracy improved from 0.57095 to 0.57237, saving model to /content/drive/My Drive/checkpoint\n",
            "Epoch 16/2000\n",
            "965/965 - 3s - loss: 0.6879 - accuracy: 0.5587 - val_loss: 0.6869 - val_accuracy: 0.5746\n",
            "\n",
            "Epoch 00016: val_accuracy improved from 0.57237 to 0.57461, saving model to /content/drive/My Drive/checkpoint\n",
            "Epoch 17/2000\n",
            "965/965 - 3s - loss: 0.6875 - accuracy: 0.5593 - val_loss: 0.6864 - val_accuracy: 0.5757\n",
            "\n",
            "Epoch 00017: val_accuracy improved from 0.57461 to 0.57571, saving model to /content/drive/My Drive/checkpoint\n",
            "Epoch 18/2000\n",
            "965/965 - 3s - loss: 0.6869 - accuracy: 0.5636 - val_loss: 0.6858 - val_accuracy: 0.5772\n",
            "\n",
            "Epoch 00018: val_accuracy improved from 0.57571 to 0.57720, saving model to /content/drive/My Drive/checkpoint\n",
            "Epoch 19/2000\n",
            "965/965 - 3s - loss: 0.6863 - accuracy: 0.5662 - val_loss: 0.6853 - val_accuracy: 0.5794\n",
            "\n",
            "Epoch 00019: val_accuracy improved from 0.57720 to 0.57937, saving model to /content/drive/My Drive/checkpoint\n",
            "Epoch 20/2000\n",
            "965/965 - 3s - loss: 0.6858 - accuracy: 0.5673 - val_loss: 0.6848 - val_accuracy: 0.5796\n",
            "\n",
            "Epoch 00020: val_accuracy improved from 0.57937 to 0.57963, saving model to /content/drive/My Drive/checkpoint\n",
            "Epoch 21/2000\n",
            "965/965 - 3s - loss: 0.6852 - accuracy: 0.5681 - val_loss: 0.6843 - val_accuracy: 0.5802\n",
            "\n",
            "Epoch 00021: val_accuracy improved from 0.57963 to 0.58021, saving model to /content/drive/My Drive/checkpoint\n",
            "Epoch 22/2000\n",
            "965/965 - 3s - loss: 0.6849 - accuracy: 0.5687 - val_loss: 0.6838 - val_accuracy: 0.5812\n",
            "\n",
            "Epoch 00022: val_accuracy improved from 0.58021 to 0.58122, saving model to /content/drive/My Drive/checkpoint\n",
            "Epoch 23/2000\n",
            "965/965 - 3s - loss: 0.6843 - accuracy: 0.5709 - val_loss: 0.6832 - val_accuracy: 0.5828\n",
            "\n",
            "Epoch 00023: val_accuracy improved from 0.58122 to 0.58277, saving model to /content/drive/My Drive/checkpoint\n",
            "Epoch 24/2000\n",
            "965/965 - 3s - loss: 0.6838 - accuracy: 0.5726 - val_loss: 0.6827 - val_accuracy: 0.5835\n",
            "\n",
            "Epoch 00024: val_accuracy improved from 0.58277 to 0.58345, saving model to /content/drive/My Drive/checkpoint\n",
            "Epoch 25/2000\n",
            "965/965 - 3s - loss: 0.6833 - accuracy: 0.5746 - val_loss: 0.6822 - val_accuracy: 0.5845\n",
            "\n",
            "Epoch 00025: val_accuracy improved from 0.58345 to 0.58449, saving model to /content/drive/My Drive/checkpoint\n",
            "Epoch 26/2000\n",
            "965/965 - 3s - loss: 0.6827 - accuracy: 0.5746 - val_loss: 0.6817 - val_accuracy: 0.5842\n",
            "\n",
            "Epoch 00026: val_accuracy did not improve from 0.58449\n",
            "Epoch 27/2000\n",
            "965/965 - 3s - loss: 0.6824 - accuracy: 0.5754 - val_loss: 0.6812 - val_accuracy: 0.5849\n",
            "\n",
            "Epoch 00027: val_accuracy improved from 0.58449 to 0.58491, saving model to /content/drive/My Drive/checkpoint\n",
            "Epoch 28/2000\n",
            "965/965 - 3s - loss: 0.6819 - accuracy: 0.5785 - val_loss: 0.6807 - val_accuracy: 0.5860\n",
            "\n",
            "Epoch 00028: val_accuracy improved from 0.58491 to 0.58604, saving model to /content/drive/My Drive/checkpoint\n",
            "Epoch 29/2000\n",
            "965/965 - 3s - loss: 0.6812 - accuracy: 0.5795 - val_loss: 0.6802 - val_accuracy: 0.5869\n",
            "\n",
            "Epoch 00029: val_accuracy improved from 0.58604 to 0.58685, saving model to /content/drive/My Drive/checkpoint\n",
            "Epoch 30/2000\n",
            "965/965 - 3s - loss: 0.6807 - accuracy: 0.5796 - val_loss: 0.6797 - val_accuracy: 0.5864\n",
            "\n",
            "Epoch 00030: val_accuracy did not improve from 0.58685\n",
            "Epoch 31/2000\n",
            "965/965 - 3s - loss: 0.6801 - accuracy: 0.5805 - val_loss: 0.6792 - val_accuracy: 0.5860\n",
            "\n",
            "Epoch 00031: val_accuracy did not improve from 0.58685\n",
            "Epoch 32/2000\n",
            "965/965 - 3s - loss: 0.6798 - accuracy: 0.5813 - val_loss: 0.6787 - val_accuracy: 0.5869\n"
          ]
        }
      ],
      "source": [
        "test_acc_max = 0\n",
        "best_model = \"\"\n",
        "x_test_max = \"\"\n",
        "y_true_max = \"\"\n",
        "best_history = \"\"\n",
        "scores = []\n",
        "\n",
        "for i in range(0,1):\n",
        "    fv_train, y_train = shuffle(fv_train, y_train)\n",
        "    fv_test, y_test = shuffle(fv_test, y_test)\n",
        "    \n",
        "    model = create_model()\n",
        "    history = model.fit(fv_train, y_train, validation_data=(fv_test, y_test), epochs=EPOCHS, batch_size=BATCH_SIZE, shuffle=True, verbose=2, callbacks=[reduce_lr, model_checkpoint])\n",
        "    model.load_weights(run_dir+\"checkpoint\")\n",
        "    test_loss, test_acc = model.evaluate(fv_test, y_test)\n",
        "    scores.append(test_acc)\n",
        "    if(test_acc > test_acc_max):\n",
        "      test_acc_max = test_acc\n",
        "      best_model = model\n",
        "      x_test_max = fv_test\n",
        "      y_true_max = y_test\n",
        "      best_history = history\n",
        "\n",
        "print('Max accuracy:', test_acc_max)\n",
        "print('Mean accuracy:', mean(scores))"
      ]
    },
    {
      "cell_type": "markdown",
      "metadata": {
        "id": "GjTYowUs-K8N"
      },
      "source": [
        "# Results\n"
      ]
    },
    {
      "cell_type": "markdown",
      "metadata": {
        "id": "l6-5QfCcUomO"
      },
      "source": [
        "## Report"
      ]
    },
    {
      "cell_type": "code",
      "execution_count": null,
      "metadata": {
        "id": "8NWBOgUPUqGG"
      },
      "outputs": [],
      "source": [
        "y_pred=best_model.predict(x_test_max).ravel()\n",
        "print(classification_report(y_true_max, (y_pred > 0.5)))"
      ]
    },
    {
      "cell_type": "markdown",
      "metadata": {
        "id": "vXufDplJ-U7B"
      },
      "source": [
        "## ROC Curve"
      ]
    },
    {
      "cell_type": "code",
      "execution_count": null,
      "metadata": {
        "id": "f9ZzOn8FS6Wr"
      },
      "outputs": [],
      "source": [
        "# calling the roc_curve, extract the probability of \n",
        "# the positive class from the predicted probability\n",
        "fpr, tpr, thresholds = roc_curve(y_true_max, y_pred)\n",
        "\n",
        "# AUC score that summarizes the ROC curve\n",
        "roc_auc = auc(fpr, tpr)\n",
        "\n",
        "plt.plot(fpr, tpr, lw = 2, label = 'ROC AUC: {:.2f}'.format(roc_auc))\n",
        "plt.plot([0, 1], [0, 1],\n",
        "         linestyle = '--',\n",
        "         color = (0.6, 0.6, 0.6),\n",
        "         label = 'random guessing')\n",
        "plt.plot([0, 0, 1], [0, 1, 1],\n",
        "         linestyle = ':',\n",
        "         color = 'black', \n",
        "         label = 'perfect performance')\n",
        "\n",
        "plt.xlim([-0.05, 1.05])\n",
        "plt.ylim([-0.05, 1.05])\n",
        "plt.xlabel('false positive rate')\n",
        "plt.ylabel('true positive rate')\n",
        "plt.title('Receiver Operator Characteristic')\n",
        "plt.legend(loc = \"lower right\")\n",
        "plt.tight_layout()\n",
        "plt.show()"
      ]
    },
    {
      "cell_type": "markdown",
      "metadata": {
        "id": "ikBVvNi6UYCS"
      },
      "source": [
        "## Precission Recall Curve"
      ]
    },
    {
      "cell_type": "code",
      "execution_count": null,
      "metadata": {
        "id": "ciMC30yZUbR8"
      },
      "outputs": [],
      "source": [
        "precision, recall, thresholds = precision_recall_curve(y_true_max, y_pred)\n",
        "\n",
        "# AUC score that summarizes the precision recall curve\n",
        "avg_precision = average_precision_score(y_true_max, y_pred)\n",
        "\n",
        "label = 'Precision Recall AUC: {:.2f}'.format(avg_precision)\n",
        "plt.plot(recall, precision, lw = 2, label = label)\n",
        "plt.xlabel('Recall')  \n",
        "plt.ylabel('Precision')  \n",
        "plt.title('Precision Recall Curve')\n",
        "plt.legend()\n",
        "plt.tight_layout()\n",
        "plt.show()"
      ]
    },
    {
      "cell_type": "markdown",
      "metadata": {
        "id": "hywksfyEUUej"
      },
      "source": [
        "## Confussion Matrix"
      ]
    },
    {
      "cell_type": "code",
      "execution_count": null,
      "metadata": {
        "id": "-Gmz0QvH-j0w"
      },
      "outputs": [],
      "source": [
        "y_pred=best_model.predict(x_test_max).ravel()\n",
        "y_pred = y_pred > 0.5\n",
        "\n",
        "class_names = [\"Hotspot\", \"No Hotspot\"]\n",
        "con_mat = tf.math.confusion_matrix(labels=y_true_max, predictions=y_pred).numpy()\n",
        "con_mat_norm = np.around(con_mat.astype('float') / con_mat.sum(axis=1)[:, np.newaxis], decimals=2)\n",
        "con_mat_df = pd.DataFrame(con_mat_norm, index = class_names, columns = class_names)\n",
        "\n",
        "print('Accuracy Y_test: ', accuracy_score(y_true_max, y_pred))\n",
        "figure = plt.figure(figsize=(8, 8))\n",
        "sns.heatmap(con_mat_df, annot=True,cmap=plt.cm.Blues)\n",
        "plt.tight_layout()\n",
        "plt.ylabel('True label')\n",
        "plt.xlabel('Predicted label')\n",
        "plt.show()"
      ]
    },
    {
      "cell_type": "markdown",
      "metadata": {
        "id": "XnWcKWCO-PSh"
      },
      "source": [
        "## Accuracy"
      ]
    },
    {
      "cell_type": "code",
      "execution_count": null,
      "metadata": {
        "id": "XEKzOiQZ-Mb5"
      },
      "outputs": [],
      "source": [
        "plt.plot(best_history.history['accuracy'])\n",
        "plt.plot(best_history.history['val_accuracy'])\n",
        "plt.title('model accuracy')\n",
        "plt.ylabel('accuracy')\n",
        "plt.xlabel('epoch')\n",
        "plt.legend(['train', 'test'], loc='upper left')\n",
        "plt.show()"
      ]
    },
    {
      "cell_type": "markdown",
      "metadata": {
        "id": "Q3dFS1QA-R-n"
      },
      "source": [
        "## Loss"
      ]
    },
    {
      "cell_type": "code",
      "execution_count": null,
      "metadata": {
        "id": "Q-npZrUg-TSx"
      },
      "outputs": [],
      "source": [
        "plt.plot(best_history.history['loss'])\n",
        "plt.plot(best_history.history['val_loss'])\n",
        "plt.title('model loss')\n",
        "plt.ylabel('loss')\n",
        "plt.xlabel('epoch')\n",
        "plt.legend(['train', 'test'], loc='upper left')\n",
        "plt.show()"
      ]
    },
    {
      "cell_type": "markdown",
      "metadata": {
        "id": "zViqnS9C6PKA"
      },
      "source": [
        "# Save Data\n"
      ]
    },
    {
      "cell_type": "code",
      "execution_count": null,
      "metadata": {
        "id": "-xHIkEGS6SCL"
      },
      "outputs": [],
      "source": [
        "model.save(root_dir+'ResNetmodel-2kEpochs.h5')"
      ]
    }
  ],
  "metadata": {
    "colab": {
      "collapsed_sections": [],
      "name": "Residual - New Approach",
      "provenance": [],
      "toc_visible": true
    },
    "kernelspec": {
      "display_name": "Python 3",
      "name": "python3"
    },
    "language_info": {
      "name": "python"
    }
  },
  "nbformat": 4,
  "nbformat_minor": 0
}
