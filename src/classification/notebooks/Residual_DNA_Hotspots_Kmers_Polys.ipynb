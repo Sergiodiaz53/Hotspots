{
  "nbformat": 4,
  "nbformat_minor": 0,
  "metadata": {
    "colab": {
      "name": "Residual -  DNA-Hotspots-Kmers-Polys.ipynb",
      "provenance": [],
      "collapsed_sections": [],
      "authorship_tag": "ABX9TyO2ZSSb0SbQaH9OKSNzo6eA"
    },
    "kernelspec": {
      "name": "python3",
      "display_name": "Python 3"
    },
    "language_info": {
      "name": "python"
    }
  },
  "cells": [
    {
      "cell_type": "code",
      "metadata": {
        "id": "849Max0-xcvy"
      },
      "source": [
        "# Imports\n",
        "from __future__ import print_function\n",
        "import tensorflow as tf\n",
        "import pandas as pd\n",
        "import numpy as np\n",
        "import re\n",
        "import os\n",
        "import matplotlib.pyplot as plt\n",
        "import sys\n",
        "from tensorflow import keras\n",
        "from datetime import datetime\n",
        "from sklearn.model_selection import train_test_split\n",
        "from sklearn import neural_network\n",
        "from sklearn.neural_network import MLPClassifier\n",
        "from sklearn.metrics import f1_score, accuracy_score, recall_score, precision_score\n",
        "from sklearn.preprocessing import OneHotEncoder, LabelEncoder\n",
        "from sklearn.utils import shuffle\n",
        "import urllib.request\n",
        "import seaborn as sns\n",
        "import random\n",
        "from tensorflow.keras.utils import to_categorical\n",
        "from statistics import mean\n",
        "\n",
        "from sklearn.preprocessing import MinMaxScaler\n",
        "from sklearn.metrics import classification_report\n",
        "\n",
        "#Configuration\n",
        "%matplotlib inline"
      ],
      "execution_count": 23,
      "outputs": []
    },
    {
      "cell_type": "code",
      "metadata": {
        "id": "ZeuwWfxYJpp4"
      },
      "source": [
        "# Check running in colab\n",
        "try:\n",
        "  from google.colab import files\n",
        "  from google.colab import drive\n",
        "  IN_COLAB = True\n",
        "except:\n",
        "  IN_COLAB = False"
      ],
      "execution_count": 24,
      "outputs": []
    },
    {
      "cell_type": "code",
      "metadata": {
        "colab": {
          "base_uri": "https://localhost:8080/"
        },
        "id": "4wCo4CkGxofL",
        "outputId": "690fc862-3b97-438e-d06f-d4bdffbe9c0c"
      },
      "source": [
        "#Configure colab vs local\n",
        "if (IN_COLAB == True) :\n",
        "  drive.mount('/content/drive', force_remount=True)\n",
        "  root_dir = \"/content/drive/My Drive/\"\n",
        "else:\n",
        "  root_dir = \"./\""
      ],
      "execution_count": 25,
      "outputs": [
        {
          "output_type": "stream",
          "name": "stdout",
          "text": [
            "Mounted at /content/drive\n"
          ]
        }
      ]
    },
    {
      "cell_type": "code",
      "metadata": {
        "id": "bT2KllnNxrk-"
      },
      "source": [
        "hotspots = np.load(root_dir + \"Data/hotspots/fasta/hotspots-5k-1polys.npy\")\n",
        "labels = np.load(root_dir + \"Data/hotspots/fasta/labels_hotspots-5k-1polys.npy\")\n",
        "\n",
        "#Half features\n",
        "hotspots = np.delete(hotspots, np.s_[512:1024], axis=1)"
      ],
      "execution_count": 26,
      "outputs": []
    },
    {
      "cell_type": "code",
      "metadata": {
        "id": "-ANwwons7XwH"
      },
      "source": [
        "layers=2\n",
        "hidden_units = 64\n",
        "batch_size = 128\n",
        "features = len(hotspots[0]) # currently 64+30\n",
        "classes = 2 # Hotspot or NO hotspot\n",
        "epochs = 1000\n",
        "activation_type = 'relu'\n",
        "learning_rate = 0.01\n",
        "regularization_l2_rate = 1e-06\n",
        "dropout_rate = 0.25\n",
        "\n",
        "uc = [hidden_units, 2*hidden_units, hidden_units]\n",
        "\n",
        "#reduce_lr = tf.keras.callbacks.LearningRateScheduler(lr_scheduler)\n",
        "reduce_lr  = tf.keras.callbacks.ReduceLROnPlateau(monitor='loss', factor=0.1, patience=50, min_lr=0.0005)\n",
        "callback_es = tf.keras.callbacks.EarlyStopping(monitor='val_loss', mode='min', verbose=1, patience=300, restore_best_weights=True)"
      ],
      "execution_count": 27,
      "outputs": []
    },
    {
      "cell_type": "code",
      "metadata": {
        "id": "E-gsqbzbyPFS"
      },
      "source": [
        "def create_model(features, layers, classes, units_configuration, activation_type):\n",
        "\n",
        "  from keras import regularizers\n",
        "\n",
        "  def regression_identity_block(X, units_start, units_end, activation):\n",
        "    X_shortcut = X\n",
        "\n",
        "    output = tf.keras.layers.Dense(units = units_start, kernel_initializer=initializer, use_bias=True, bias_initializer='zeros')(X)\n",
        "    #output = tf.keras.layers.BatchNormalization()(output)\n",
        "    output = tf.keras.layers.Activation(activation=activation)(output)\n",
        "\n",
        "    output = tf.keras.layers.Dense(units = units_start, kernel_initializer=initializer, use_bias=True, bias_initializer='zeros')(output)\n",
        "    #output = tf.keras.layers.BatchNormalization()(output)\n",
        "    output = tf.keras.layers.Activation(activation=activation)(output)\n",
        "\n",
        "    output = tf.keras.layers.Dense(units = units_end, kernel_initializer=initializer, use_bias=True, bias_initializer='zeros')(output)\n",
        "    #output = tf.keras.layers.BatchNormalization()(output)\n",
        "\n",
        "    jump   = tf.keras.layers.Dense(units = units_end, kernel_initializer=initializer, use_bias=True, bias_initializer='zeros')(X_shortcut)\n",
        "\n",
        "    output = tf.keras.layers.Add()([output, jump])\n",
        "    output = tf.keras.layers.Activation(activation=activation)(output)\n",
        "\n",
        "    return output\n",
        "\n",
        "  #initializer = keras.initializers.GlorotNormal(seed=None)\n",
        "  initializer = keras.initializers.RandomNormal(mean=0.0, stddev=0.05, seed=None)\n",
        "\n",
        "  model_input = tf.keras.Input(shape=(features))\n",
        "  output = model_input\n",
        "  output = tf.keras.layers.Dropout(rate=dropout_rate)(model_input)\n",
        "\n",
        "  \n",
        "  for i in range(0, layers):\n",
        "    output = regression_identity_block(output, units_configuration[i], units_configuration[i+1], activation_type)\n",
        "    \n",
        "  output = tf.keras.layers.Dense(units = classes, activation='softmax')(output)\n",
        "\n",
        "  model = tf.keras.Model(inputs=model_input, outputs=[output])\n",
        "\n",
        "  #optimizer = tf.keras.optimizers.Adam(learning_rate=learning_rate)\n",
        "  optimizer = tf.keras.optimizers.SGD(learning_rate=learning_rate)\n",
        "  model.compile(loss=\"binary_crossentropy\", optimizer=optimizer, metrics = ['accuracy'])\n",
        "\n",
        "  return model"
      ],
      "execution_count": 28,
      "outputs": []
    },
    {
      "cell_type": "code",
      "metadata": {
        "colab": {
          "base_uri": "https://localhost:8080/",
          "height": 1000
        },
        "id": "WoIXstkmyVkd",
        "outputId": "1e6b979b-0958-4800-a484-023b5e8312d6"
      },
      "source": [
        "test_acc_max = 0\n",
        "best_model = \"\"\n",
        "x_test_max = \"\"\n",
        "y_true_max = \"\"\n",
        "best_history = \"\"\n",
        "scores = []\n",
        "\n",
        "for i in range(0,1):\n",
        "\n",
        "  x_train, x_test, y_train, y_test = train_test_split(hotspots, labels, test_size=0.20, shuffle=True)\n",
        "\n",
        "  x_train = x_train.astype('float32')\n",
        "  x_test = x_test.astype('float32')\n",
        "\n",
        "  y_true = y_test\n",
        "\n",
        "  y_train = to_categorical(y_train, num_classes=2)\n",
        "  y_test = to_categorical(y_test, num_classes=2)\n",
        "\n",
        "  model = create_model(features=features, layers=layers, classes=classes, units_configuration=uc, activation_type=activation_type)\n",
        "\n",
        "  history = model.fit(x_train, y_train, validation_data=(x_test,y_test), epochs=epochs, batch_size=batch_size, verbose=2, callbacks=[reduce_lr, callback_es])\n",
        "  test_loss, test_acc = model.evaluate(x_test, y_test)\n",
        "  scores.append(test_acc)\n",
        "  if(test_acc > test_acc_max):\n",
        "    test_acc_max = test_acc\n",
        "    best_model = model\n",
        "    x_test_max = x_test\n",
        "    y_true_max = y_true\n",
        "    best_history = history\n",
        "\n",
        "print('Max accuracy:', test_acc_max)\n",
        "print('Mean accuracy:', mean(scores))"
      ],
      "execution_count": 29,
      "outputs": [
        {
          "output_type": "stream",
          "name": "stdout",
          "text": [
            "Epoch 1/1000\n",
            "483/483 - 3s - loss: 0.6931 - accuracy: 0.5182 - val_loss: 0.6922 - val_accuracy: 0.5505\n",
            "Epoch 2/1000\n",
            "483/483 - 3s - loss: 0.6919 - accuracy: 0.5459 - val_loss: 0.6910 - val_accuracy: 0.5688\n",
            "Epoch 3/1000\n",
            "483/483 - 3s - loss: 0.6907 - accuracy: 0.5609 - val_loss: 0.6898 - val_accuracy: 0.5738\n",
            "Epoch 4/1000\n",
            "483/483 - 3s - loss: 0.6894 - accuracy: 0.5705 - val_loss: 0.6884 - val_accuracy: 0.5788\n",
            "Epoch 5/1000\n",
            "483/483 - 5s - loss: 0.6880 - accuracy: 0.5751 - val_loss: 0.6868 - val_accuracy: 0.5812\n",
            "Epoch 6/1000\n",
            "483/483 - 3s - loss: 0.6864 - accuracy: 0.5762 - val_loss: 0.6851 - val_accuracy: 0.5862\n",
            "Epoch 7/1000\n",
            "483/483 - 3s - loss: 0.6846 - accuracy: 0.5810 - val_loss: 0.6831 - val_accuracy: 0.5873\n",
            "Epoch 8/1000\n",
            "483/483 - 3s - loss: 0.6823 - accuracy: 0.5821 - val_loss: 0.6809 - val_accuracy: 0.5903\n",
            "Epoch 9/1000\n",
            "483/483 - 3s - loss: 0.6803 - accuracy: 0.5840 - val_loss: 0.6785 - val_accuracy: 0.5919\n",
            "Epoch 10/1000\n",
            "483/483 - 3s - loss: 0.6777 - accuracy: 0.5870 - val_loss: 0.6762 - val_accuracy: 0.5941\n",
            "Epoch 11/1000\n",
            "483/483 - 3s - loss: 0.6757 - accuracy: 0.5866 - val_loss: 0.6740 - val_accuracy: 0.5947\n",
            "Epoch 12/1000\n",
            "483/483 - 3s - loss: 0.6738 - accuracy: 0.5871 - val_loss: 0.6722 - val_accuracy: 0.5949\n",
            "Epoch 13/1000\n",
            "483/483 - 3s - loss: 0.6722 - accuracy: 0.5892 - val_loss: 0.6706 - val_accuracy: 0.5961\n",
            "Epoch 14/1000\n",
            "483/483 - 3s - loss: 0.6709 - accuracy: 0.5887 - val_loss: 0.6694 - val_accuracy: 0.5978\n",
            "Epoch 15/1000\n",
            "483/483 - 3s - loss: 0.6700 - accuracy: 0.5902 - val_loss: 0.6685 - val_accuracy: 0.5994\n",
            "Epoch 16/1000\n",
            "483/483 - 3s - loss: 0.6688 - accuracy: 0.5929 - val_loss: 0.6678 - val_accuracy: 0.5994\n",
            "Epoch 17/1000\n",
            "483/483 - 3s - loss: 0.6680 - accuracy: 0.5934 - val_loss: 0.6672 - val_accuracy: 0.5997\n",
            "Epoch 18/1000\n",
            "483/483 - 3s - loss: 0.6679 - accuracy: 0.5933 - val_loss: 0.6667 - val_accuracy: 0.6006\n",
            "Epoch 19/1000\n",
            "483/483 - 3s - loss: 0.6669 - accuracy: 0.5969 - val_loss: 0.6663 - val_accuracy: 0.6027\n",
            "Epoch 20/1000\n",
            "483/483 - 3s - loss: 0.6667 - accuracy: 0.5955 - val_loss: 0.6659 - val_accuracy: 0.6028\n",
            "Epoch 21/1000\n",
            "483/483 - 3s - loss: 0.6663 - accuracy: 0.5966 - val_loss: 0.6656 - val_accuracy: 0.6013\n",
            "Epoch 22/1000\n",
            "483/483 - 3s - loss: 0.6658 - accuracy: 0.5975 - val_loss: 0.6653 - val_accuracy: 0.6044\n",
            "Epoch 23/1000\n",
            "483/483 - 3s - loss: 0.6656 - accuracy: 0.5987 - val_loss: 0.6649 - val_accuracy: 0.6028\n",
            "Epoch 24/1000\n",
            "483/483 - 3s - loss: 0.6653 - accuracy: 0.5986 - val_loss: 0.6645 - val_accuracy: 0.6052\n",
            "Epoch 25/1000\n",
            "483/483 - 3s - loss: 0.6648 - accuracy: 0.5985 - val_loss: 0.6642 - val_accuracy: 0.6034\n",
            "Epoch 26/1000\n",
            "483/483 - 3s - loss: 0.6640 - accuracy: 0.6012 - val_loss: 0.6639 - val_accuracy: 0.6039\n",
            "Epoch 27/1000\n",
            "483/483 - 3s - loss: 0.6637 - accuracy: 0.6014 - val_loss: 0.6635 - val_accuracy: 0.6045\n",
            "Epoch 28/1000\n",
            "483/483 - 3s - loss: 0.6637 - accuracy: 0.6006 - val_loss: 0.6634 - val_accuracy: 0.6034\n",
            "Epoch 29/1000\n",
            "483/483 - 3s - loss: 0.6636 - accuracy: 0.6002 - val_loss: 0.6629 - val_accuracy: 0.6043\n",
            "Epoch 30/1000\n",
            "483/483 - 3s - loss: 0.6632 - accuracy: 0.6024 - val_loss: 0.6626 - val_accuracy: 0.6070\n",
            "Epoch 31/1000\n",
            "483/483 - 3s - loss: 0.6630 - accuracy: 0.6033 - val_loss: 0.6623 - val_accuracy: 0.6041\n",
            "Epoch 32/1000\n",
            "483/483 - 3s - loss: 0.6623 - accuracy: 0.6029 - val_loss: 0.6619 - val_accuracy: 0.6046\n",
            "Epoch 33/1000\n",
            "483/483 - 3s - loss: 0.6621 - accuracy: 0.6044 - val_loss: 0.6615 - val_accuracy: 0.6080\n",
            "Epoch 34/1000\n",
            "483/483 - 3s - loss: 0.6619 - accuracy: 0.6026 - val_loss: 0.6612 - val_accuracy: 0.6066\n",
            "Epoch 35/1000\n",
            "483/483 - 3s - loss: 0.6613 - accuracy: 0.6046 - val_loss: 0.6608 - val_accuracy: 0.6065\n",
            "Epoch 36/1000\n",
            "483/483 - 3s - loss: 0.6606 - accuracy: 0.6061 - val_loss: 0.6605 - val_accuracy: 0.6098\n",
            "Epoch 37/1000\n",
            "483/483 - 3s - loss: 0.6603 - accuracy: 0.6064 - val_loss: 0.6601 - val_accuracy: 0.6078\n",
            "Epoch 38/1000\n",
            "483/483 - 3s - loss: 0.6605 - accuracy: 0.6039 - val_loss: 0.6598 - val_accuracy: 0.6063\n",
            "Epoch 39/1000\n",
            "483/483 - 3s - loss: 0.6598 - accuracy: 0.6057 - val_loss: 0.6594 - val_accuracy: 0.6079\n",
            "Epoch 40/1000\n",
            "483/483 - 3s - loss: 0.6598 - accuracy: 0.6068 - val_loss: 0.6590 - val_accuracy: 0.6086\n",
            "Epoch 41/1000\n",
            "483/483 - 3s - loss: 0.6598 - accuracy: 0.6072 - val_loss: 0.6587 - val_accuracy: 0.6073\n",
            "Epoch 42/1000\n",
            "483/483 - 3s - loss: 0.6589 - accuracy: 0.6075 - val_loss: 0.6583 - val_accuracy: 0.6095\n",
            "Epoch 43/1000\n",
            "483/483 - 3s - loss: 0.6588 - accuracy: 0.6082 - val_loss: 0.6580 - val_accuracy: 0.6086\n",
            "Epoch 44/1000\n",
            "483/483 - 3s - loss: 0.6581 - accuracy: 0.6096 - val_loss: 0.6576 - val_accuracy: 0.6090\n",
            "Epoch 45/1000\n",
            "483/483 - 3s - loss: 0.6580 - accuracy: 0.6081 - val_loss: 0.6573 - val_accuracy: 0.6095\n",
            "Epoch 46/1000\n",
            "483/483 - 3s - loss: 0.6578 - accuracy: 0.6064 - val_loss: 0.6574 - val_accuracy: 0.6139\n",
            "Epoch 47/1000\n",
            "483/483 - 3s - loss: 0.6570 - accuracy: 0.6108 - val_loss: 0.6571 - val_accuracy: 0.6129\n",
            "Epoch 48/1000\n",
            "483/483 - 3s - loss: 0.6570 - accuracy: 0.6105 - val_loss: 0.6569 - val_accuracy: 0.6134\n",
            "Epoch 49/1000\n",
            "483/483 - 3s - loss: 0.6562 - accuracy: 0.6123 - val_loss: 0.6565 - val_accuracy: 0.6140\n",
            "Epoch 50/1000\n",
            "483/483 - 3s - loss: 0.6565 - accuracy: 0.6132 - val_loss: 0.6556 - val_accuracy: 0.6115\n",
            "Epoch 51/1000\n",
            "483/483 - 3s - loss: 0.6564 - accuracy: 0.6112 - val_loss: 0.6567 - val_accuracy: 0.6118\n",
            "Epoch 52/1000\n",
            "483/483 - 3s - loss: 0.6557 - accuracy: 0.6135 - val_loss: 0.6549 - val_accuracy: 0.6146\n",
            "Epoch 53/1000\n",
            "483/483 - 3s - loss: 0.6552 - accuracy: 0.6127 - val_loss: 0.6545 - val_accuracy: 0.6138\n",
            "Epoch 54/1000\n"
          ]
        },
        {
          "output_type": "error",
          "ename": "KeyboardInterrupt",
          "evalue": "ignored",
          "traceback": [
            "\u001b[0;31m---------------------------------------------------------------------------\u001b[0m",
            "\u001b[0;31mKeyboardInterrupt\u001b[0m                         Traceback (most recent call last)",
            "\u001b[0;32m<ipython-input-29-1e1400150814>\u001b[0m in \u001b[0;36m<module>\u001b[0;34m()\u001b[0m\n\u001b[1;32m     20\u001b[0m   \u001b[0mmodel\u001b[0m \u001b[0;34m=\u001b[0m \u001b[0mcreate_model\u001b[0m\u001b[0;34m(\u001b[0m\u001b[0mfeatures\u001b[0m\u001b[0;34m=\u001b[0m\u001b[0mfeatures\u001b[0m\u001b[0;34m,\u001b[0m \u001b[0mlayers\u001b[0m\u001b[0;34m=\u001b[0m\u001b[0mlayers\u001b[0m\u001b[0;34m,\u001b[0m \u001b[0mclasses\u001b[0m\u001b[0;34m=\u001b[0m\u001b[0mclasses\u001b[0m\u001b[0;34m,\u001b[0m \u001b[0munits_configuration\u001b[0m\u001b[0;34m=\u001b[0m\u001b[0muc\u001b[0m\u001b[0;34m,\u001b[0m \u001b[0mactivation_type\u001b[0m\u001b[0;34m=\u001b[0m\u001b[0mactivation_type\u001b[0m\u001b[0;34m)\u001b[0m\u001b[0;34m\u001b[0m\u001b[0;34m\u001b[0m\u001b[0m\n\u001b[1;32m     21\u001b[0m \u001b[0;34m\u001b[0m\u001b[0m\n\u001b[0;32m---> 22\u001b[0;31m   \u001b[0mhistory\u001b[0m \u001b[0;34m=\u001b[0m \u001b[0mmodel\u001b[0m\u001b[0;34m.\u001b[0m\u001b[0mfit\u001b[0m\u001b[0;34m(\u001b[0m\u001b[0mx_train\u001b[0m\u001b[0;34m,\u001b[0m \u001b[0my_train\u001b[0m\u001b[0;34m,\u001b[0m \u001b[0mvalidation_data\u001b[0m\u001b[0;34m=\u001b[0m\u001b[0;34m(\u001b[0m\u001b[0mx_test\u001b[0m\u001b[0;34m,\u001b[0m\u001b[0my_test\u001b[0m\u001b[0;34m)\u001b[0m\u001b[0;34m,\u001b[0m \u001b[0mepochs\u001b[0m\u001b[0;34m=\u001b[0m\u001b[0mepochs\u001b[0m\u001b[0;34m,\u001b[0m \u001b[0mbatch_size\u001b[0m\u001b[0;34m=\u001b[0m\u001b[0mbatch_size\u001b[0m\u001b[0;34m,\u001b[0m \u001b[0mverbose\u001b[0m\u001b[0;34m=\u001b[0m\u001b[0;36m2\u001b[0m\u001b[0;34m,\u001b[0m \u001b[0mcallbacks\u001b[0m\u001b[0;34m=\u001b[0m\u001b[0;34m[\u001b[0m\u001b[0mreduce_lr\u001b[0m\u001b[0;34m,\u001b[0m \u001b[0mcallback_es\u001b[0m\u001b[0;34m]\u001b[0m\u001b[0;34m)\u001b[0m\u001b[0;34m\u001b[0m\u001b[0;34m\u001b[0m\u001b[0m\n\u001b[0m\u001b[1;32m     23\u001b[0m   \u001b[0mtest_loss\u001b[0m\u001b[0;34m,\u001b[0m \u001b[0mtest_acc\u001b[0m \u001b[0;34m=\u001b[0m \u001b[0mmodel\u001b[0m\u001b[0;34m.\u001b[0m\u001b[0mevaluate\u001b[0m\u001b[0;34m(\u001b[0m\u001b[0mx_test\u001b[0m\u001b[0;34m,\u001b[0m \u001b[0my_test\u001b[0m\u001b[0;34m)\u001b[0m\u001b[0;34m\u001b[0m\u001b[0;34m\u001b[0m\u001b[0m\n\u001b[1;32m     24\u001b[0m   \u001b[0mscores\u001b[0m\u001b[0;34m.\u001b[0m\u001b[0mappend\u001b[0m\u001b[0;34m(\u001b[0m\u001b[0mtest_acc\u001b[0m\u001b[0;34m)\u001b[0m\u001b[0;34m\u001b[0m\u001b[0;34m\u001b[0m\u001b[0m\n",
            "\u001b[0;32m/usr/local/lib/python3.7/dist-packages/keras/engine/training.py\u001b[0m in \u001b[0;36mfit\u001b[0;34m(self, x, y, batch_size, epochs, verbose, callbacks, validation_split, validation_data, shuffle, class_weight, sample_weight, initial_epoch, steps_per_epoch, validation_steps, validation_batch_size, validation_freq, max_queue_size, workers, use_multiprocessing)\u001b[0m\n\u001b[1;32m   1182\u001b[0m                 _r=1):\n\u001b[1;32m   1183\u001b[0m               \u001b[0mcallbacks\u001b[0m\u001b[0;34m.\u001b[0m\u001b[0mon_train_batch_begin\u001b[0m\u001b[0;34m(\u001b[0m\u001b[0mstep\u001b[0m\u001b[0;34m)\u001b[0m\u001b[0;34m\u001b[0m\u001b[0;34m\u001b[0m\u001b[0m\n\u001b[0;32m-> 1184\u001b[0;31m               \u001b[0mtmp_logs\u001b[0m \u001b[0;34m=\u001b[0m \u001b[0mself\u001b[0m\u001b[0;34m.\u001b[0m\u001b[0mtrain_function\u001b[0m\u001b[0;34m(\u001b[0m\u001b[0miterator\u001b[0m\u001b[0;34m)\u001b[0m\u001b[0;34m\u001b[0m\u001b[0;34m\u001b[0m\u001b[0m\n\u001b[0m\u001b[1;32m   1185\u001b[0m               \u001b[0;32mif\u001b[0m \u001b[0mdata_handler\u001b[0m\u001b[0;34m.\u001b[0m\u001b[0mshould_sync\u001b[0m\u001b[0;34m:\u001b[0m\u001b[0;34m\u001b[0m\u001b[0;34m\u001b[0m\u001b[0m\n\u001b[1;32m   1186\u001b[0m                 \u001b[0mcontext\u001b[0m\u001b[0;34m.\u001b[0m\u001b[0masync_wait\u001b[0m\u001b[0;34m(\u001b[0m\u001b[0;34m)\u001b[0m\u001b[0;34m\u001b[0m\u001b[0;34m\u001b[0m\u001b[0m\n",
            "\u001b[0;32m/usr/local/lib/python3.7/dist-packages/tensorflow/python/eager/def_function.py\u001b[0m in \u001b[0;36m__call__\u001b[0;34m(self, *args, **kwds)\u001b[0m\n\u001b[1;32m    883\u001b[0m \u001b[0;34m\u001b[0m\u001b[0m\n\u001b[1;32m    884\u001b[0m       \u001b[0;32mwith\u001b[0m \u001b[0mOptionalXlaContext\u001b[0m\u001b[0;34m(\u001b[0m\u001b[0mself\u001b[0m\u001b[0;34m.\u001b[0m\u001b[0m_jit_compile\u001b[0m\u001b[0;34m)\u001b[0m\u001b[0;34m:\u001b[0m\u001b[0;34m\u001b[0m\u001b[0;34m\u001b[0m\u001b[0m\n\u001b[0;32m--> 885\u001b[0;31m         \u001b[0mresult\u001b[0m \u001b[0;34m=\u001b[0m \u001b[0mself\u001b[0m\u001b[0;34m.\u001b[0m\u001b[0m_call\u001b[0m\u001b[0;34m(\u001b[0m\u001b[0;34m*\u001b[0m\u001b[0margs\u001b[0m\u001b[0;34m,\u001b[0m \u001b[0;34m**\u001b[0m\u001b[0mkwds\u001b[0m\u001b[0;34m)\u001b[0m\u001b[0;34m\u001b[0m\u001b[0;34m\u001b[0m\u001b[0m\n\u001b[0m\u001b[1;32m    886\u001b[0m \u001b[0;34m\u001b[0m\u001b[0m\n\u001b[1;32m    887\u001b[0m       \u001b[0mnew_tracing_count\u001b[0m \u001b[0;34m=\u001b[0m \u001b[0mself\u001b[0m\u001b[0;34m.\u001b[0m\u001b[0mexperimental_get_tracing_count\u001b[0m\u001b[0;34m(\u001b[0m\u001b[0;34m)\u001b[0m\u001b[0;34m\u001b[0m\u001b[0;34m\u001b[0m\u001b[0m\n",
            "\u001b[0;32m/usr/local/lib/python3.7/dist-packages/tensorflow/python/eager/def_function.py\u001b[0m in \u001b[0;36m_call\u001b[0;34m(self, *args, **kwds)\u001b[0m\n\u001b[1;32m    915\u001b[0m       \u001b[0;31m# In this case we have created variables on the first call, so we run the\u001b[0m\u001b[0;34m\u001b[0m\u001b[0;34m\u001b[0m\u001b[0;34m\u001b[0m\u001b[0m\n\u001b[1;32m    916\u001b[0m       \u001b[0;31m# defunned version which is guaranteed to never create variables.\u001b[0m\u001b[0;34m\u001b[0m\u001b[0;34m\u001b[0m\u001b[0;34m\u001b[0m\u001b[0m\n\u001b[0;32m--> 917\u001b[0;31m       \u001b[0;32mreturn\u001b[0m \u001b[0mself\u001b[0m\u001b[0;34m.\u001b[0m\u001b[0m_stateless_fn\u001b[0m\u001b[0;34m(\u001b[0m\u001b[0;34m*\u001b[0m\u001b[0margs\u001b[0m\u001b[0;34m,\u001b[0m \u001b[0;34m**\u001b[0m\u001b[0mkwds\u001b[0m\u001b[0;34m)\u001b[0m  \u001b[0;31m# pylint: disable=not-callable\u001b[0m\u001b[0;34m\u001b[0m\u001b[0;34m\u001b[0m\u001b[0m\n\u001b[0m\u001b[1;32m    918\u001b[0m     \u001b[0;32melif\u001b[0m \u001b[0mself\u001b[0m\u001b[0;34m.\u001b[0m\u001b[0m_stateful_fn\u001b[0m \u001b[0;32mis\u001b[0m \u001b[0;32mnot\u001b[0m \u001b[0;32mNone\u001b[0m\u001b[0;34m:\u001b[0m\u001b[0;34m\u001b[0m\u001b[0;34m\u001b[0m\u001b[0m\n\u001b[1;32m    919\u001b[0m       \u001b[0;31m# Release the lock early so that multiple threads can perform the call\u001b[0m\u001b[0;34m\u001b[0m\u001b[0;34m\u001b[0m\u001b[0;34m\u001b[0m\u001b[0m\n",
            "\u001b[0;32m/usr/local/lib/python3.7/dist-packages/tensorflow/python/eager/function.py\u001b[0m in \u001b[0;36m__call__\u001b[0;34m(self, *args, **kwargs)\u001b[0m\n\u001b[1;32m   3038\u001b[0m        filtered_flat_args) = self._maybe_define_function(args, kwargs)\n\u001b[1;32m   3039\u001b[0m     return graph_function._call_flat(\n\u001b[0;32m-> 3040\u001b[0;31m         filtered_flat_args, captured_inputs=graph_function.captured_inputs)  # pylint: disable=protected-access\n\u001b[0m\u001b[1;32m   3041\u001b[0m \u001b[0;34m\u001b[0m\u001b[0m\n\u001b[1;32m   3042\u001b[0m   \u001b[0;34m@\u001b[0m\u001b[0mproperty\u001b[0m\u001b[0;34m\u001b[0m\u001b[0;34m\u001b[0m\u001b[0m\n",
            "\u001b[0;32m/usr/local/lib/python3.7/dist-packages/tensorflow/python/eager/function.py\u001b[0m in \u001b[0;36m_call_flat\u001b[0;34m(self, args, captured_inputs, cancellation_manager)\u001b[0m\n\u001b[1;32m   1962\u001b[0m       \u001b[0;31m# No tape is watching; skip to running the function.\u001b[0m\u001b[0;34m\u001b[0m\u001b[0;34m\u001b[0m\u001b[0;34m\u001b[0m\u001b[0m\n\u001b[1;32m   1963\u001b[0m       return self._build_call_outputs(self._inference_function.call(\n\u001b[0;32m-> 1964\u001b[0;31m           ctx, args, cancellation_manager=cancellation_manager))\n\u001b[0m\u001b[1;32m   1965\u001b[0m     forward_backward = self._select_forward_and_backward_functions(\n\u001b[1;32m   1966\u001b[0m         \u001b[0margs\u001b[0m\u001b[0;34m,\u001b[0m\u001b[0;34m\u001b[0m\u001b[0;34m\u001b[0m\u001b[0m\n",
            "\u001b[0;32m/usr/local/lib/python3.7/dist-packages/tensorflow/python/eager/function.py\u001b[0m in \u001b[0;36mcall\u001b[0;34m(self, ctx, args, cancellation_manager)\u001b[0m\n\u001b[1;32m    594\u001b[0m               \u001b[0minputs\u001b[0m\u001b[0;34m=\u001b[0m\u001b[0margs\u001b[0m\u001b[0;34m,\u001b[0m\u001b[0;34m\u001b[0m\u001b[0;34m\u001b[0m\u001b[0m\n\u001b[1;32m    595\u001b[0m               \u001b[0mattrs\u001b[0m\u001b[0;34m=\u001b[0m\u001b[0mattrs\u001b[0m\u001b[0;34m,\u001b[0m\u001b[0;34m\u001b[0m\u001b[0;34m\u001b[0m\u001b[0m\n\u001b[0;32m--> 596\u001b[0;31m               ctx=ctx)\n\u001b[0m\u001b[1;32m    597\u001b[0m         \u001b[0;32melse\u001b[0m\u001b[0;34m:\u001b[0m\u001b[0;34m\u001b[0m\u001b[0;34m\u001b[0m\u001b[0m\n\u001b[1;32m    598\u001b[0m           outputs = execute.execute_with_cancellation(\n",
            "\u001b[0;32m/usr/local/lib/python3.7/dist-packages/tensorflow/python/eager/execute.py\u001b[0m in \u001b[0;36mquick_execute\u001b[0;34m(op_name, num_outputs, inputs, attrs, ctx, name)\u001b[0m\n\u001b[1;32m     58\u001b[0m     \u001b[0mctx\u001b[0m\u001b[0;34m.\u001b[0m\u001b[0mensure_initialized\u001b[0m\u001b[0;34m(\u001b[0m\u001b[0;34m)\u001b[0m\u001b[0;34m\u001b[0m\u001b[0;34m\u001b[0m\u001b[0m\n\u001b[1;32m     59\u001b[0m     tensors = pywrap_tfe.TFE_Py_Execute(ctx._handle, device_name, op_name,\n\u001b[0;32m---> 60\u001b[0;31m                                         inputs, attrs, num_outputs)\n\u001b[0m\u001b[1;32m     61\u001b[0m   \u001b[0;32mexcept\u001b[0m \u001b[0mcore\u001b[0m\u001b[0;34m.\u001b[0m\u001b[0m_NotOkStatusException\u001b[0m \u001b[0;32mas\u001b[0m \u001b[0me\u001b[0m\u001b[0;34m:\u001b[0m\u001b[0;34m\u001b[0m\u001b[0;34m\u001b[0m\u001b[0m\n\u001b[1;32m     62\u001b[0m     \u001b[0;32mif\u001b[0m \u001b[0mname\u001b[0m \u001b[0;32mis\u001b[0m \u001b[0;32mnot\u001b[0m \u001b[0;32mNone\u001b[0m\u001b[0;34m:\u001b[0m\u001b[0;34m\u001b[0m\u001b[0;34m\u001b[0m\u001b[0m\n",
            "\u001b[0;31mKeyboardInterrupt\u001b[0m: "
          ]
        }
      ]
    },
    {
      "cell_type": "code",
      "metadata": {
        "id": "7S6TgNGqyxek"
      },
      "source": [
        "keras.utils.plot_model(model, root_dir +'multi_input_and_output_model.png', show_shapes=True)"
      ],
      "execution_count": null,
      "outputs": []
    },
    {
      "cell_type": "code",
      "metadata": {
        "id": "YXxIu4lXD_kB"
      },
      "source": [
        "y_pred=np.argmax(best_model.predict(x_test_max), axis=-1)\n",
        "report = classification_report(y_true_max, y_pred)\n",
        "print(report)"
      ],
      "execution_count": null,
      "outputs": []
    },
    {
      "cell_type": "code",
      "metadata": {
        "id": "E4h6FlVBB1fh"
      },
      "source": [
        "class_names = [\"Hotspot\", \"No Hotspot\"]\n",
        "con_mat = tf.math.confusion_matrix(labels=y_true_max, predictions=y_pred).numpy()\n",
        "con_mat_norm = np.around(con_mat.astype('float') / con_mat.sum(axis=1)[:, np.newaxis], decimals=2)\n",
        "con_mat_df = pd.DataFrame(con_mat_norm, index = class_names, columns = class_names)\n",
        "\n",
        "print('Accuracy Y_test: ', accuracy_score(y_true_max, y_pred))\n",
        "figure = plt.figure(figsize=(8, 8))\n",
        "sns.heatmap(con_mat_df, annot=True,cmap=plt.cm.Blues)\n",
        "plt.tight_layout()\n",
        "plt.ylabel('True label')\n",
        "plt.xlabel('Predicted label')\n",
        "plt.show()"
      ],
      "execution_count": null,
      "outputs": []
    },
    {
      "cell_type": "code",
      "metadata": {
        "id": "pHevxJZWCGmx"
      },
      "source": [
        "plt.plot(best_history.history['accuracy'])\n",
        "plt.plot(best_history.history['val_accuracy'])\n",
        "plt.title('model accuracy')\n",
        "plt.ylabel('accuracy')\n",
        "plt.xlabel('epoch')\n",
        "plt.legend(['train', 'test'], loc='upper left')\n",
        "plt.show()"
      ],
      "execution_count": null,
      "outputs": []
    },
    {
      "cell_type": "code",
      "metadata": {
        "id": "b9KFIu-tCIBo"
      },
      "source": [
        "plt.plot(best_history.history['loss'])\n",
        "plt.plot(best_history.history['val_loss'])\n",
        "plt.title('model loss')\n",
        "plt.ylabel('loss')\n",
        "plt.xlabel('epoch')\n",
        "plt.legend(['train', 'test'], loc='upper left')\n",
        "plt.show()"
      ],
      "execution_count": null,
      "outputs": []
    }
  ]
}